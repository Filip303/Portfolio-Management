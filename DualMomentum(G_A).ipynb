{
  "nbformat": 4,
  "nbformat_minor": 0,
  "metadata": {
    "colab": {
      "provenance": []
    },
    "kernelspec": {
      "name": "python3",
      "display_name": "Python 3"
    },
    "language_info": {
      "name": "python"
    }
  },
  "cells": [
    {
      "cell_type": "code",
      "source": [
        "pip install pyportfolioopt"
      ],
      "metadata": {
        "colab": {
          "base_uri": "https://localhost:8080/"
        },
        "id": "g_HDPUgm9Ewk",
        "outputId": "42edf0e2-d2d7-41bf-f3ea-971779ebdf00"
      },
      "execution_count": 5,
      "outputs": [
        {
          "output_type": "stream",
          "name": "stdout",
          "text": [
            "Collecting pyportfolioopt\n",
            "  Downloading pyportfolioopt-1.5.6-py3-none-any.whl.metadata (22 kB)\n",
            "Requirement already satisfied: cvxpy>=1.1.19 in /usr/local/lib/python3.11/dist-packages (from pyportfolioopt) (1.6.0)\n",
            "Collecting ecos<3.0.0,>=2.0.14 (from pyportfolioopt)\n",
            "  Downloading ecos-2.0.14-cp311-cp311-manylinux_2_17_x86_64.manylinux2014_x86_64.whl.metadata (8.0 kB)\n",
            "Requirement already satisfied: numpy>=1.26.0 in /usr/local/lib/python3.11/dist-packages (from pyportfolioopt) (1.26.4)\n",
            "Requirement already satisfied: pandas>=0.19 in /usr/local/lib/python3.11/dist-packages (from pyportfolioopt) (2.2.2)\n",
            "Requirement already satisfied: plotly<6.0.0,>=5.0.0 in /usr/local/lib/python3.11/dist-packages (from pyportfolioopt) (5.24.1)\n",
            "Requirement already satisfied: scipy>=1.3 in /usr/local/lib/python3.11/dist-packages (from pyportfolioopt) (1.13.1)\n",
            "Requirement already satisfied: osqp>=0.6.2 in /usr/local/lib/python3.11/dist-packages (from cvxpy>=1.1.19->pyportfolioopt) (0.6.7.post3)\n",
            "Requirement already satisfied: clarabel>=0.5.0 in /usr/local/lib/python3.11/dist-packages (from cvxpy>=1.1.19->pyportfolioopt) (0.9.0)\n",
            "Requirement already satisfied: scs>=3.2.4.post1 in /usr/local/lib/python3.11/dist-packages (from cvxpy>=1.1.19->pyportfolioopt) (3.2.7.post2)\n",
            "Requirement already satisfied: python-dateutil>=2.8.2 in /usr/local/lib/python3.11/dist-packages (from pandas>=0.19->pyportfolioopt) (2.8.2)\n",
            "Requirement already satisfied: pytz>=2020.1 in /usr/local/lib/python3.11/dist-packages (from pandas>=0.19->pyportfolioopt) (2024.2)\n",
            "Requirement already satisfied: tzdata>=2022.7 in /usr/local/lib/python3.11/dist-packages (from pandas>=0.19->pyportfolioopt) (2024.2)\n",
            "Requirement already satisfied: tenacity>=6.2.0 in /usr/local/lib/python3.11/dist-packages (from plotly<6.0.0,>=5.0.0->pyportfolioopt) (9.0.0)\n",
            "Requirement already satisfied: packaging in /usr/local/lib/python3.11/dist-packages (from plotly<6.0.0,>=5.0.0->pyportfolioopt) (24.2)\n",
            "Requirement already satisfied: qdldl in /usr/local/lib/python3.11/dist-packages (from osqp>=0.6.2->cvxpy>=1.1.19->pyportfolioopt) (0.1.7.post5)\n",
            "Requirement already satisfied: six>=1.5 in /usr/local/lib/python3.11/dist-packages (from python-dateutil>=2.8.2->pandas>=0.19->pyportfolioopt) (1.17.0)\n",
            "Downloading pyportfolioopt-1.5.6-py3-none-any.whl (62 kB)\n",
            "\u001b[2K   \u001b[90m━━━━━━━━━━━━━━━━━━━━━━━━━━━━━━━━━━━━━━━━\u001b[0m \u001b[32m62.7/62.7 kB\u001b[0m \u001b[31m3.4 MB/s\u001b[0m eta \u001b[36m0:00:00\u001b[0m\n",
            "\u001b[?25hDownloading ecos-2.0.14-cp311-cp311-manylinux_2_17_x86_64.manylinux2014_x86_64.whl (220 kB)\n",
            "\u001b[2K   \u001b[90m━━━━━━━━━━━━━━━━━━━━━━━━━━━━━━━━━━━━━━━━\u001b[0m \u001b[32m220.1/220.1 kB\u001b[0m \u001b[31m8.3 MB/s\u001b[0m eta \u001b[36m0:00:00\u001b[0m\n",
            "\u001b[?25hInstalling collected packages: ecos, pyportfolioopt\n",
            "Successfully installed ecos-2.0.14 pyportfolioopt-1.5.6\n"
          ]
        }
      ]
    },
    {
      "cell_type": "code",
      "source": [
        "import yfinance as yf\n",
        "import pandas as pd\n",
        "import numpy as np\n",
        "from datetime import datetime, timedelta\n",
        "from pypfopt.hierarchical_portfolio import HRPOpt\n",
        "\n",
        "class AntonacciDualMomentumHRP:\n",
        "    def __init__(self):\n",
        "        self.assets = {\n",
        "            'SP500': '^GSPC',\n",
        "            'EAFE': 'EFA',\n",
        "            'BONDS': 'AGG',\n",
        "            'BTC': 'BTC-USD',\n",
        "            'GOLD': 'EGLN.L',\n",
        "            'TBILL': '^IRX'\n",
        "        }\n",
        "\n",
        "    def get_asset_data(self, start_date=None, end_date=None):\n",
        "        if end_date is None:\n",
        "            end_date = datetime.now()\n",
        "        if start_date is None:\n",
        "            start_date = end_date - timedelta(days=450)\n",
        "\n",
        "        data = {}\n",
        "        for asset_name, ticker in self.assets.items():\n",
        "            try:\n",
        "                asset = yf.Ticker(ticker)\n",
        "                hist = asset.history(start=start_date, end=end_date)\n",
        "                if not hist.empty:\n",
        "                    data[asset_name] = hist['Close']\n",
        "            except Exception as e:\n",
        "                print(f\"Error downloading {asset_name}: {str(e)}\")\n",
        "\n",
        "        return pd.DataFrame(data)\n",
        "\n",
        "    def calculate_returns(self, data, lookback_period=252):\n",
        "        returns_12m = data.pct_change(periods=lookback_period)\n",
        "        latest_returns = returns_12m.iloc[-1]\n",
        "        absolute_momentum = latest_returns > latest_returns['TBILL']\n",
        "        relative_momentum = latest_returns.rank(ascending=False)\n",
        "\n",
        "        return pd.DataFrame({\n",
        "            'Returns_12m': latest_returns,\n",
        "            'Absolute_Momentum': absolute_momentum,\n",
        "            'Relative_Rank': relative_momentum\n",
        "        })\n",
        "\n",
        "    def calculate_hrp_weights(self, data, risk_assets_only=True):\n",
        "        # Calculate daily returns\n",
        "        returns = data.pct_change().dropna()\n",
        "\n",
        "        if risk_assets_only:\n",
        "            # Remove TBILL and BONDS for risk-on allocation\n",
        "            returns = returns.drop(['TBILL', 'BONDS'], axis=1)\n",
        "\n",
        "        # Calculate HRP weights\n",
        "        hrp = HRPOpt(returns)\n",
        "        weights = hrp.optimize()\n",
        "\n",
        "        return pd.Series(weights)\n",
        "\n",
        "    def get_portfolio_allocation(self, signals, data):\n",
        "        # Check if we should be in risk-off mode\n",
        "        if not any(signals['Absolute_Momentum']):\n",
        "            return {'BONDS': 1.0}\n",
        "\n",
        "        # If in risk-on mode, calculate HRP weights for risk assets\n",
        "        risk_weights = self.calculate_hrp_weights(data, risk_assets_only=True)\n",
        "\n",
        "        # Filter for assets with positive absolute momentum\n",
        "        valid_assets = signals[signals['Absolute_Momentum']].index\n",
        "        valid_assets = [asset for asset in valid_assets if asset not in ['TBILL', 'BONDS']]\n",
        "\n",
        "        if not valid_assets:\n",
        "            return {'BONDS': 1.0}\n",
        "\n",
        "        # Normalize weights for valid assets only\n",
        "        final_weights = {}\n",
        "        total_weight = sum(risk_weights[valid_assets])\n",
        "\n",
        "        if total_weight > 0:\n",
        "            for asset in valid_assets:\n",
        "                final_weights[asset] = risk_weights[asset] / total_weight\n",
        "        else:\n",
        "            # Fallback to equal weights if HRP fails\n",
        "            weight = 1.0 / len(valid_assets)\n",
        "            final_weights = {asset: weight for asset in valid_assets}\n",
        "\n",
        "        return final_weights\n",
        "\n",
        "    def analyze_strategy(self, months=12):\n",
        "        end_date = datetime.now()\n",
        "        start_date = end_date - timedelta(days=months*31)\n",
        "\n",
        "        data = self.get_asset_data(start_date, end_date)\n",
        "        signals = self.calculate_returns(data)\n",
        "        allocation = self.get_portfolio_allocation(signals, data)\n",
        "\n",
        "        report = pd.DataFrame({\n",
        "            'Asset': signals.index,\n",
        "            'Return_12m(%)': (signals['Returns_12m'] * 100).round(2),\n",
        "            'Absolute_Momentum': signals['Absolute_Momentum'],\n",
        "            'Relative_Rank': signals['Relative_Rank'],\n",
        "            'Allocation(%)': [allocation.get(asset, 0) * 100 for asset in signals.index]\n",
        "        })\n",
        "\n",
        "        return {\n",
        "            'signals': signals,\n",
        "            'allocation': allocation,\n",
        "            'report': report,\n",
        "            'data': data\n",
        "        }\n",
        "\n",
        "# Example usage\n",
        "model = AntonacciDualMomentumHRP()\n",
        "results = model.analyze_strategy()\n",
        "print(\"\\nMomentum and Allocation Report:\")\n",
        "print(results['report'].to_string())"
      ],
      "metadata": {
        "colab": {
          "base_uri": "https://localhost:8080/"
        },
        "id": "mHSIa1Xn9DBQ",
        "outputId": "da2891ab-53e2-477f-cd15-4418af60688d"
      },
      "execution_count": 6,
      "outputs": [
        {
          "output_type": "stream",
          "name": "stderr",
          "text": [
            "<ipython-input-6-e964b2fa21ce>:37: FutureWarning: The default fill_method='pad' in DataFrame.pct_change is deprecated and will be removed in a future version. Either fill in any non-leading NA values prior to calling pct_change or specify 'fill_method=None' to not fill NA values.\n",
            "  returns_12m = data.pct_change(periods=lookback_period)\n",
            "<ipython-input-6-e964b2fa21ce>:50: FutureWarning: The default fill_method='pad' in DataFrame.pct_change is deprecated and will be removed in a future version. Either fill in any non-leading NA values prior to calling pct_change or specify 'fill_method=None' to not fill NA values.\n",
            "  returns = data.pct_change().dropna()\n"
          ]
        },
        {
          "output_type": "stream",
          "name": "stdout",
          "text": [
            "\n",
            "Momentum and Allocation Report:\n",
            "       Asset  Return_12m(%)  Absolute_Momentum  Relative_Rank  Allocation(%)\n",
            "SP500  SP500           5.15               True            3.0      28.860458\n",
            "EAFE    EAFE          -2.44               True            5.0      29.397894\n",
            "BONDS  BONDS          -1.59               True            4.0       0.000000\n",
            "BTC      BTC          68.10               True            1.0       2.816499\n",
            "GOLD    GOLD           9.30               True            2.0      38.925150\n",
            "TBILL  TBILL          -6.87              False            6.0       0.000000\n"
          ]
        }
      ]
    }
  ]
}