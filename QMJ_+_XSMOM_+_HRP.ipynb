{
  "nbformat": 4,
  "nbformat_minor": 0,
  "metadata": {
    "colab": {
      "provenance": []
    },
    "kernelspec": {
      "name": "python3",
      "display_name": "Python 3"
    },
    "language_info": {
      "name": "python"
    }
  },
  "cells": [
    {
      "cell_type": "code",
      "source": [
        "pip install finvizfinance"
      ],
      "metadata": {
        "colab": {
          "base_uri": "https://localhost:8080/"
        },
        "id": "xYUWoXXNMr-2",
        "outputId": "ab1d5618-f44b-4649-caea-15d728fbc92e"
      },
      "execution_count": 2,
      "outputs": [
        {
          "output_type": "stream",
          "name": "stdout",
          "text": [
            "Collecting finvizfinance\n",
            "  Downloading finvizfinance-1.1.0-py3-none-any.whl.metadata (5.0 kB)\n",
            "Requirement already satisfied: pandas in /usr/local/lib/python3.10/dist-packages (from finvizfinance) (2.2.2)\n",
            "Requirement already satisfied: requests in /usr/local/lib/python3.10/dist-packages (from finvizfinance) (2.32.3)\n",
            "Requirement already satisfied: beautifulsoup4 in /usr/local/lib/python3.10/dist-packages (from finvizfinance) (4.12.3)\n",
            "Requirement already satisfied: lxml in /usr/local/lib/python3.10/dist-packages (from finvizfinance) (5.3.0)\n",
            "Requirement already satisfied: soupsieve>1.2 in /usr/local/lib/python3.10/dist-packages (from beautifulsoup4->finvizfinance) (2.6)\n",
            "Requirement already satisfied: numpy>=1.22.4 in /usr/local/lib/python3.10/dist-packages (from pandas->finvizfinance) (1.26.4)\n",
            "Requirement already satisfied: python-dateutil>=2.8.2 in /usr/local/lib/python3.10/dist-packages (from pandas->finvizfinance) (2.8.2)\n",
            "Requirement already satisfied: pytz>=2020.1 in /usr/local/lib/python3.10/dist-packages (from pandas->finvizfinance) (2024.2)\n",
            "Requirement already satisfied: tzdata>=2022.7 in /usr/local/lib/python3.10/dist-packages (from pandas->finvizfinance) (2024.2)\n",
            "Requirement already satisfied: charset-normalizer<4,>=2 in /usr/local/lib/python3.10/dist-packages (from requests->finvizfinance) (3.4.1)\n",
            "Requirement already satisfied: idna<4,>=2.5 in /usr/local/lib/python3.10/dist-packages (from requests->finvizfinance) (3.10)\n",
            "Requirement already satisfied: urllib3<3,>=1.21.1 in /usr/local/lib/python3.10/dist-packages (from requests->finvizfinance) (2.3.0)\n",
            "Requirement already satisfied: certifi>=2017.4.17 in /usr/local/lib/python3.10/dist-packages (from requests->finvizfinance) (2024.12.14)\n",
            "Requirement already satisfied: six>=1.5 in /usr/local/lib/python3.10/dist-packages (from python-dateutil>=2.8.2->pandas->finvizfinance) (1.17.0)\n",
            "Downloading finvizfinance-1.1.0-py3-none-any.whl (44 kB)\n",
            "\u001b[?25l   \u001b[90m━━━━━━━━━━━━━━━━━━━━━━━━━━━━━━━━━━━━━━━━\u001b[0m \u001b[32m0.0/44.3 kB\u001b[0m \u001b[31m?\u001b[0m eta \u001b[36m-:--:--\u001b[0m\r\u001b[2K   \u001b[90m━━━━━━━━━━━━━━━━━━━━━━━━━━━━━━━━━━━━━━━━\u001b[0m \u001b[32m44.3/44.3 kB\u001b[0m \u001b[31m1.8 MB/s\u001b[0m eta \u001b[36m0:00:00\u001b[0m\n",
            "\u001b[?25hInstalling collected packages: finvizfinance\n",
            "Successfully installed finvizfinance-1.1.0\n"
          ]
        }
      ]
    },
    {
      "cell_type": "code",
      "source": [
        "from finvizfinance.screener.overview import Overview\n",
        "import yfinance as yf\n",
        "import pandas as pd\n",
        "import numpy as np\n",
        "import time\n",
        "\n",
        "class CombinedModel:\n",
        "    def __init__(self):\n",
        "        self.screener = Overview()\n",
        "\n",
        "    def get_sector_data(self, sector):\n",
        "        filters_dict = {\n",
        "            'Exchange': 'NASDAQ',\n",
        "            'Market Cap.': '+Mid (over $2bln)',\n",
        "            'Average Volume': 'Over 500K',\n",
        "            'Price': 'Over $10',\n",
        "            'Sector': sector\n",
        "        }\n",
        "        self.screener.set_filter(filters_dict=filters_dict)\n",
        "        return self.screener.screener_view()\n",
        "\n",
        "    def calculate_xsmom(self, ticker, universe_returns):\n",
        "        stock = yf.Ticker(ticker)\n",
        "        hist = stock.history(period=\"6mo\")\n",
        "        if hist.empty:\n",
        "            return 0\n",
        "\n",
        "        stock_return = ((hist['Close'].iloc[-1] / hist['Close'].iloc[0]) - 1) * 100\n",
        "        mean_return = universe_returns['Returns'].mean()\n",
        "        std_return = universe_returns['Returns'].std()\n",
        "\n",
        "        return (stock_return - mean_return) / std_return\n",
        "\n",
        "    def get_stock_fundamentals(self, ticker):\n",
        "        try:\n",
        "            stock = yf.Ticker(ticker)\n",
        "            info = stock.info\n",
        "            hist = stock.history(period=\"1y\")\n",
        "\n",
        "            returns = hist['Close'].pct_change()\n",
        "            growth_rate = ((hist['Close'].iloc[-1] / hist['Close'].iloc[0]) - 1) * 100\n",
        "            volatility = returns.std() * np.sqrt(252)\n",
        "\n",
        "            return {\n",
        "                'Ticker': ticker,\n",
        "                'ROE': info.get('returnOnEquity', 0),\n",
        "                'ROA': info.get('returnOnAssets', 0),\n",
        "                'OperatingMargin': info.get('operatingMargins', 0),\n",
        "                'Beta': info.get('beta', 1),\n",
        "                'DebtToEquity': info.get('debtToEquity', 0),\n",
        "                'GrowthRate': growth_rate,\n",
        "                'Volatility': volatility\n",
        "            }\n",
        "        except Exception as e:\n",
        "            print(f\"Error getting data for {ticker}: {str(e)}\")\n",
        "            return None\n",
        "\n",
        "    def analyze_sector(self, sector):\n",
        "        # Get sector stocks\n",
        "        df = self.get_sector_data(sector)\n",
        "        if df.empty:\n",
        "            return pd.DataFrame()\n",
        "\n",
        "        # Calculate universe returns for XSMOM\n",
        "        universe_returns = []\n",
        "        for ticker in df['Ticker']:\n",
        "            try:\n",
        "                stock = yf.Ticker(ticker)\n",
        "                hist = stock.history(period=\"6mo\")\n",
        "                if not hist.empty:\n",
        "                    returns = ((hist['Close'].iloc[-1] / hist['Close'].iloc[0]) - 1) * 100\n",
        "                    universe_returns.append({\n",
        "                        'Ticker': ticker,\n",
        "                        'Returns': returns\n",
        "                    })\n",
        "                time.sleep(0.1)\n",
        "            except:\n",
        "                continue\n",
        "\n",
        "        universe_returns_df = pd.DataFrame(universe_returns)\n",
        "\n",
        "        # Get fundamentals and calculate scores\n",
        "        detailed_data = []\n",
        "        for ticker in df['Ticker']:\n",
        "            data = self.get_stock_fundamentals(ticker)\n",
        "            if data:\n",
        "                xsmom = self.calculate_xsmom(ticker, universe_returns_df)\n",
        "                data['XSMOM_Score'] = xsmom\n",
        "                detailed_data.append(data)\n",
        "\n",
        "        if not detailed_data:\n",
        "            return pd.DataFrame()\n",
        "\n",
        "        detailed_df = pd.DataFrame(detailed_data)\n",
        "        df = df.merge(detailed_df, on='Ticker', how='inner')\n",
        "\n",
        "        # Calculate Quality Score\n",
        "        for col in ['ROE', 'ROA', 'OperatingMargin', 'Beta', 'DebtToEquity', 'GrowthRate', 'Volatility']:\n",
        "            df[col] = df[col].clip(lower=df[col].quantile(0.05), upper=df[col].quantile(0.95))\n",
        "\n",
        "        profitability = df[['ROE', 'ROA', 'OperatingMargin']].mean(axis=1)\n",
        "        growth = df['GrowthRate']\n",
        "        safety = -(df[['Beta', 'DebtToEquity', 'Volatility']].mean(axis=1))\n",
        "\n",
        "        df['Profitability_Score'] = (profitability - profitability.mean()) / profitability.std()\n",
        "        df['Growth_Score'] = (growth - growth.mean()) / growth.std()\n",
        "        df['Safety_Score'] = (safety - safety.mean()) / safety.std()\n",
        "\n",
        "        df['Quality_Score'] = (df['Profitability_Score'] + df['Growth_Score'] + df['Safety_Score']) / 3\n",
        "\n",
        "        # Combined Score\n",
        "        df['Combined_Score'] = (df['Quality_Score'] + df['XSMOM_Score']) / 2\n",
        "\n",
        "        return df.sort_values('Combined_Score', ascending=False)\n",
        "\n",
        "    def get_portfolio(self, n_stocks=5):\n",
        "        sectors = ['Technology', 'Financial', 'Healthcare', 'Consumer Defensive']\n",
        "        all_data = []\n",
        "\n",
        "        for sector in sectors:\n",
        "            sector_data = self.analyze_sector(sector)\n",
        "            if not sector_data.empty:\n",
        "                all_data.append(sector_data)\n",
        "\n",
        "        if not all_data:\n",
        "            raise ValueError(\"No data available for analysis\")\n",
        "\n",
        "        df = pd.concat(all_data, ignore_index=True)\n",
        "        df = df.sort_values('Combined_Score', ascending=False)\n",
        "\n",
        "        high_quality = df.head(n_stocks)\n",
        "        low_quality = df.tail(n_stocks)\n",
        "\n",
        "        return {\n",
        "            'long': high_quality[['Ticker', 'Company', 'Sector', 'Combined_Score', 'Quality_Score', 'XSMOM_Score']],\n",
        "            'short': low_quality[['Ticker', 'Company', 'Sector', 'Combined_Score', 'Quality_Score', 'XSMOM_Score']],\n",
        "            'spread': high_quality['Combined_Score'].mean() - low_quality['Combined_Score'].mean()\n",
        "        }\n",
        "\n",
        "# Usage example\n",
        "model = CombinedModel()\n",
        "portfolio = model.get_portfolio()\n",
        "print(\"\\nLong Portfolio (High Quality + Momentum):\")\n",
        "print(portfolio['long'])\n",
        "print(\"\\nShort Portfolio (Low Quality + Momentum):\")\n",
        "print(portfolio['short'])\n",
        "print(\"\\nSpread:\", portfolio['spread'])"
      ],
      "metadata": {
        "colab": {
          "base_uri": "https://localhost:8080/"
        },
        "id": "j5W2A9gPMHxc",
        "outputId": "94f24124-a571-4c2d-cce8-a6ac93552cf3"
      },
      "execution_count": 3,
      "outputs": [
        {
          "output_type": "stream",
          "name": "stdout",
          "text": []
        },
        {
          "output_type": "stream",
          "name": "stderr",
          "text": [
            "ERROR:yfinance:NBIS: Period '6mo' is invalid, must be one of ['1d', '5d', '1mo', '3mo', 'ytd', 'max']\n",
            "ERROR:yfinance:TTAN: Period '6mo' is invalid, must be one of ['1d', '5d', '1mo', 'ytd', 'max']\n",
            "ERROR:yfinance:NBIS: Period '1y' is invalid, must be one of ['1d', '5d', '1mo', '3mo', 'ytd', 'max']\n"
          ]
        },
        {
          "output_type": "stream",
          "name": "stdout",
          "text": [
            "Error getting data for NBIS: single positional indexer is out-of-bounds\n"
          ]
        },
        {
          "output_type": "stream",
          "name": "stderr",
          "text": [
            "ERROR:yfinance:OS: Period '1y' is invalid, must be one of ['1d', '5d', '1mo', '3mo', '6mo', 'ytd', 'max']\n"
          ]
        },
        {
          "output_type": "stream",
          "name": "stdout",
          "text": [
            "Error getting data for OS: single positional indexer is out-of-bounds\n"
          ]
        },
        {
          "output_type": "stream",
          "name": "stderr",
          "text": [
            "ERROR:yfinance:TTAN: Period '1y' is invalid, must be one of ['1d', '5d', '1mo', 'ytd', 'max']\n"
          ]
        },
        {
          "output_type": "stream",
          "name": "stdout",
          "text": [
            "Error getting data for TTAN: single positional indexer is out-of-bounds\n"
          ]
        },
        {
          "output_type": "stream",
          "name": "stderr",
          "text": [
            "/usr/local/lib/python3.10/dist-packages/finvizfinance/screener/base.py:134: FutureWarning: The behavior of DataFrame concatenation with empty or all-NA entries is deprecated. In a future version, this will no longer exclude empty or all-NA columns when determining the result dtypes. To retain the old behavior, exclude the relevant entries before the concat operation.\n",
            "  return pd.concat([df, pd.DataFrame(frame)], ignore_index=True)\n"
          ]
        },
        {
          "output_type": "stream",
          "name": "stdout",
          "text": [
            "Error getting data for ISRG: Expecting value: line 1 column 1 (char 0)\n"
          ]
        },
        {
          "output_type": "stream",
          "name": "stderr",
          "text": [
            "ERROR:yfinance:429 Client Error: Too Many Requests for url: https://query2.finance.yahoo.com/v10/finance/quoteSummary/ITCI?modules=financialData%2CquoteType%2CdefaultKeyStatistics%2CassetProfile%2CsummaryDetail&corsDomain=finance.yahoo.com&formatted=false&symbol=ITCI&crumb=Edge%3A+Too+Many+Requests\n"
          ]
        },
        {
          "output_type": "stream",
          "name": "stdout",
          "text": [
            "Error getting data for ITCI: Expecting value: line 1 column 1 (char 0)\n"
          ]
        },
        {
          "output_type": "stream",
          "name": "stderr",
          "text": [
            "ERROR:yfinance:429 Client Error: Too Many Requests for url: https://query2.finance.yahoo.com/v10/finance/quoteSummary/JANX?modules=financialData%2CquoteType%2CdefaultKeyStatistics%2CassetProfile%2CsummaryDetail&corsDomain=finance.yahoo.com&formatted=false&symbol=JANX&crumb=Edge%3A+Too+Many+Requests\n"
          ]
        },
        {
          "output_type": "stream",
          "name": "stdout",
          "text": [
            "Error getting data for JANX: Expecting value: line 1 column 1 (char 0)\n"
          ]
        },
        {
          "output_type": "stream",
          "name": "stderr",
          "text": [
            "ERROR:yfinance:429 Client Error: Too Many Requests for url: https://query2.finance.yahoo.com/v10/finance/quoteSummary/JAZZ?modules=financialData%2CquoteType%2CdefaultKeyStatistics%2CassetProfile%2CsummaryDetail&corsDomain=finance.yahoo.com&formatted=false&symbol=JAZZ&crumb=Edge%3A+Too+Many+Requests\n"
          ]
        },
        {
          "output_type": "stream",
          "name": "stdout",
          "text": [
            "Error getting data for JAZZ: Expecting value: line 1 column 1 (char 0)\n"
          ]
        },
        {
          "output_type": "stream",
          "name": "stderr",
          "text": [
            "ERROR:yfinance:429 Client Error: Too Many Requests for url: https://query2.finance.yahoo.com/v10/finance/quoteSummary/LEGN?modules=financialData%2CquoteType%2CdefaultKeyStatistics%2CassetProfile%2CsummaryDetail&corsDomain=finance.yahoo.com&formatted=false&symbol=LEGN&crumb=Edge%3A+Too+Many+Requests\n"
          ]
        },
        {
          "output_type": "stream",
          "name": "stdout",
          "text": [
            "Error getting data for LEGN: Expecting value: line 1 column 1 (char 0)\n"
          ]
        },
        {
          "output_type": "stream",
          "name": "stderr",
          "text": [
            "ERROR:yfinance:429 Client Error: Too Many Requests for url: https://query2.finance.yahoo.com/v10/finance/quoteSummary/LNTH?modules=financialData%2CquoteType%2CdefaultKeyStatistics%2CassetProfile%2CsummaryDetail&corsDomain=finance.yahoo.com&formatted=false&symbol=LNTH&crumb=Edge%3A+Too+Many+Requests\n"
          ]
        },
        {
          "output_type": "stream",
          "name": "stdout",
          "text": [
            "Error getting data for LNTH: Expecting value: line 1 column 1 (char 0)\n"
          ]
        },
        {
          "output_type": "stream",
          "name": "stderr",
          "text": [
            "ERROR:yfinance:429 Client Error: Too Many Requests for url: https://query2.finance.yahoo.com/v10/finance/quoteSummary/MASI?modules=financialData%2CquoteType%2CdefaultKeyStatistics%2CassetProfile%2CsummaryDetail&corsDomain=finance.yahoo.com&formatted=false&symbol=MASI&crumb=Edge%3A+Too+Many+Requests\n"
          ]
        },
        {
          "output_type": "stream",
          "name": "stdout",
          "text": [
            "Error getting data for MASI: Expecting value: line 1 column 1 (char 0)\n"
          ]
        },
        {
          "output_type": "stream",
          "name": "stderr",
          "text": [
            "ERROR:yfinance:429 Client Error: Too Many Requests for url: https://query2.finance.yahoo.com/v10/finance/quoteSummary/MRNA?modules=financialData%2CquoteType%2CdefaultKeyStatistics%2CassetProfile%2CsummaryDetail&corsDomain=finance.yahoo.com&formatted=false&symbol=MRNA&crumb=Edge%3A+Too+Many+Requests\n"
          ]
        },
        {
          "output_type": "stream",
          "name": "stdout",
          "text": [
            "Error getting data for MRNA: Expecting value: line 1 column 1 (char 0)\n"
          ]
        },
        {
          "output_type": "stream",
          "name": "stderr",
          "text": [
            "ERROR:yfinance:429 Client Error: Too Many Requests for url: https://query2.finance.yahoo.com/v10/finance/quoteSummary/MRUS?modules=financialData%2CquoteType%2CdefaultKeyStatistics%2CassetProfile%2CsummaryDetail&corsDomain=finance.yahoo.com&formatted=false&symbol=MRUS&crumb=Edge%3A+Too+Many+Requests\n"
          ]
        },
        {
          "output_type": "stream",
          "name": "stdout",
          "text": [
            "Error getting data for MRUS: Expecting value: line 1 column 1 (char 0)\n"
          ]
        },
        {
          "output_type": "stream",
          "name": "stderr",
          "text": [
            "ERROR:yfinance:429 Client Error: Too Many Requests for url: https://query2.finance.yahoo.com/v10/finance/quoteSummary/NAMS?modules=financialData%2CquoteType%2CdefaultKeyStatistics%2CassetProfile%2CsummaryDetail&corsDomain=finance.yahoo.com&formatted=false&symbol=NAMS&crumb=Edge%3A+Too+Many+Requests\n"
          ]
        },
        {
          "output_type": "stream",
          "name": "stdout",
          "text": [
            "Error getting data for NAMS: Expecting value: line 1 column 1 (char 0)\n"
          ]
        },
        {
          "output_type": "stream",
          "name": "stderr",
          "text": [
            "ERROR:yfinance:429 Client Error: Too Many Requests for url: https://query2.finance.yahoo.com/v10/finance/quoteSummary/NARI?modules=financialData%2CquoteType%2CdefaultKeyStatistics%2CassetProfile%2CsummaryDetail&corsDomain=finance.yahoo.com&formatted=false&symbol=NARI&crumb=Edge%3A+Too+Many+Requests\n"
          ]
        },
        {
          "output_type": "stream",
          "name": "stdout",
          "text": [
            "Error getting data for NARI: Expecting value: line 1 column 1 (char 0)\n"
          ]
        },
        {
          "output_type": "stream",
          "name": "stderr",
          "text": [
            "ERROR:yfinance:429 Client Error: Too Many Requests for url: https://query2.finance.yahoo.com/v10/finance/quoteSummary/NBIX?modules=financialData%2CquoteType%2CdefaultKeyStatistics%2CassetProfile%2CsummaryDetail&corsDomain=finance.yahoo.com&formatted=false&symbol=NBIX&crumb=Edge%3A+Too+Many+Requests\n"
          ]
        },
        {
          "output_type": "stream",
          "name": "stdout",
          "text": [
            "Error getting data for NBIX: Expecting value: line 1 column 1 (char 0)\n"
          ]
        },
        {
          "output_type": "stream",
          "name": "stderr",
          "text": [
            "ERROR:yfinance:429 Client Error: Too Many Requests for url: https://query2.finance.yahoo.com/v10/finance/quoteSummary/NEOG?modules=financialData%2CquoteType%2CdefaultKeyStatistics%2CassetProfile%2CsummaryDetail&corsDomain=finance.yahoo.com&formatted=false&symbol=NEOG&crumb=Edge%3A+Too+Many+Requests\n"
          ]
        },
        {
          "output_type": "stream",
          "name": "stdout",
          "text": [
            "Error getting data for NEOG: Expecting value: line 1 column 1 (char 0)\n"
          ]
        },
        {
          "output_type": "stream",
          "name": "stderr",
          "text": [
            "ERROR:yfinance:429 Client Error: Too Many Requests for url: https://query2.finance.yahoo.com/v10/finance/quoteSummary/NTRA?modules=financialData%2CquoteType%2CdefaultKeyStatistics%2CassetProfile%2CsummaryDetail&corsDomain=finance.yahoo.com&formatted=false&symbol=NTRA&crumb=Edge%3A+Too+Many+Requests\n"
          ]
        },
        {
          "output_type": "stream",
          "name": "stdout",
          "text": [
            "Error getting data for NTRA: Expecting value: line 1 column 1 (char 0)\n"
          ]
        },
        {
          "output_type": "stream",
          "name": "stderr",
          "text": [
            "ERROR:yfinance:429 Client Error: Too Many Requests for url: https://query2.finance.yahoo.com/v10/finance/quoteSummary/NVCR?modules=financialData%2CquoteType%2CdefaultKeyStatistics%2CassetProfile%2CsummaryDetail&corsDomain=finance.yahoo.com&formatted=false&symbol=NVCR&crumb=Edge%3A+Too+Many+Requests\n"
          ]
        },
        {
          "output_type": "stream",
          "name": "stdout",
          "text": [
            "Error getting data for NVCR: Expecting value: line 1 column 1 (char 0)\n"
          ]
        },
        {
          "output_type": "stream",
          "name": "stderr",
          "text": [
            "ERROR:yfinance:429 Client Error: Too Many Requests for url: https://query2.finance.yahoo.com/v10/finance/quoteSummary/OPCH?modules=financialData%2CquoteType%2CdefaultKeyStatistics%2CassetProfile%2CsummaryDetail&corsDomain=finance.yahoo.com&formatted=false&symbol=OPCH&crumb=Edge%3A+Too+Many+Requests\n"
          ]
        },
        {
          "output_type": "stream",
          "name": "stdout",
          "text": [
            "Error getting data for OPCH: Expecting value: line 1 column 1 (char 0)\n"
          ]
        },
        {
          "output_type": "stream",
          "name": "stderr",
          "text": [
            "ERROR:yfinance:429 Client Error: Too Many Requests for url: https://query2.finance.yahoo.com/v10/finance/quoteSummary/PCVX?modules=financialData%2CquoteType%2CdefaultKeyStatistics%2CassetProfile%2CsummaryDetail&corsDomain=finance.yahoo.com&formatted=false&symbol=PCVX&crumb=Edge%3A+Too+Many+Requests\n"
          ]
        },
        {
          "output_type": "stream",
          "name": "stdout",
          "text": [
            "Error getting data for PCVX: Expecting value: line 1 column 1 (char 0)\n"
          ]
        },
        {
          "output_type": "stream",
          "name": "stderr",
          "text": [
            "ERROR:yfinance:429 Client Error: Too Many Requests for url: https://query2.finance.yahoo.com/v10/finance/quoteSummary/PDCO?modules=financialData%2CquoteType%2CdefaultKeyStatistics%2CassetProfile%2CsummaryDetail&corsDomain=finance.yahoo.com&formatted=false&symbol=PDCO&crumb=Edge%3A+Too+Many+Requests\n"
          ]
        },
        {
          "output_type": "stream",
          "name": "stdout",
          "text": [
            "Error getting data for PDCO: Expecting value: line 1 column 1 (char 0)\n"
          ]
        },
        {
          "output_type": "stream",
          "name": "stderr",
          "text": [
            "ERROR:yfinance:429 Client Error: Too Many Requests for url: https://query2.finance.yahoo.com/v10/finance/quoteSummary/PINC?modules=financialData%2CquoteType%2CdefaultKeyStatistics%2CassetProfile%2CsummaryDetail&corsDomain=finance.yahoo.com&formatted=false&symbol=PINC&crumb=Edge%3A+Too+Many+Requests\n"
          ]
        },
        {
          "output_type": "stream",
          "name": "stdout",
          "text": [
            "Error getting data for PINC: Expecting value: line 1 column 1 (char 0)\n"
          ]
        },
        {
          "output_type": "stream",
          "name": "stderr",
          "text": [
            "ERROR:yfinance:429 Client Error: Too Many Requests for url: https://query2.finance.yahoo.com/v10/finance/quoteSummary/PODD?modules=financialData%2CquoteType%2CdefaultKeyStatistics%2CassetProfile%2CsummaryDetail&corsDomain=finance.yahoo.com&formatted=false&symbol=PODD&crumb=Edge%3A+Too+Many+Requests\n"
          ]
        },
        {
          "output_type": "stream",
          "name": "stdout",
          "text": [
            "Error getting data for PODD: Expecting value: line 1 column 1 (char 0)\n"
          ]
        },
        {
          "output_type": "stream",
          "name": "stderr",
          "text": [
            "ERROR:yfinance:429 Client Error: Too Many Requests for url: https://query2.finance.yahoo.com/v10/finance/quoteSummary/PRCT?modules=financialData%2CquoteType%2CdefaultKeyStatistics%2CassetProfile%2CsummaryDetail&corsDomain=finance.yahoo.com&formatted=false&symbol=PRCT&crumb=Edge%3A+Too+Many+Requests\n"
          ]
        },
        {
          "output_type": "stream",
          "name": "stdout",
          "text": [
            "Error getting data for PRCT: Expecting value: line 1 column 1 (char 0)\n"
          ]
        },
        {
          "output_type": "stream",
          "name": "stderr",
          "text": [
            "ERROR:yfinance:429 Client Error: Too Many Requests for url: https://query2.finance.yahoo.com/v10/finance/quoteSummary/PRVA?modules=financialData%2CquoteType%2CdefaultKeyStatistics%2CassetProfile%2CsummaryDetail&corsDomain=finance.yahoo.com&formatted=false&symbol=PRVA&crumb=Edge%3A+Too+Many+Requests\n"
          ]
        },
        {
          "output_type": "stream",
          "name": "stdout",
          "text": [
            "Error getting data for PRVA: Expecting value: line 1 column 1 (char 0)\n"
          ]
        },
        {
          "output_type": "stream",
          "name": "stderr",
          "text": [
            "ERROR:yfinance:429 Client Error: Too Many Requests for url: https://query2.finance.yahoo.com/v10/finance/quoteSummary/PTCT?modules=financialData%2CquoteType%2CdefaultKeyStatistics%2CassetProfile%2CsummaryDetail&corsDomain=finance.yahoo.com&formatted=false&symbol=PTCT&crumb=Edge%3A+Too+Many+Requests\n"
          ]
        },
        {
          "output_type": "stream",
          "name": "stdout",
          "text": [
            "Error getting data for PTCT: Expecting value: line 1 column 1 (char 0)\n"
          ]
        },
        {
          "output_type": "stream",
          "name": "stderr",
          "text": [
            "ERROR:yfinance:429 Client Error: Too Many Requests for url: https://query2.finance.yahoo.com/v10/finance/quoteSummary/PTGX?modules=financialData%2CquoteType%2CdefaultKeyStatistics%2CassetProfile%2CsummaryDetail&corsDomain=finance.yahoo.com&formatted=false&symbol=PTGX&crumb=Edge%3A+Too+Many+Requests\n"
          ]
        },
        {
          "output_type": "stream",
          "name": "stdout",
          "text": [
            "Error getting data for PTGX: Expecting value: line 1 column 1 (char 0)\n"
          ]
        },
        {
          "output_type": "stream",
          "name": "stderr",
          "text": [
            "ERROR:yfinance:429 Client Error: Too Many Requests for url: https://query2.finance.yahoo.com/v10/finance/quoteSummary/QDEL?modules=financialData%2CquoteType%2CdefaultKeyStatistics%2CassetProfile%2CsummaryDetail&corsDomain=finance.yahoo.com&formatted=false&symbol=QDEL&crumb=Edge%3A+Too+Many+Requests\n"
          ]
        },
        {
          "output_type": "stream",
          "name": "stdout",
          "text": [
            "Error getting data for QDEL: Expecting value: line 1 column 1 (char 0)\n"
          ]
        },
        {
          "output_type": "stream",
          "name": "stderr",
          "text": [
            "ERROR:yfinance:429 Client Error: Too Many Requests for url: https://query2.finance.yahoo.com/v10/finance/quoteSummary/RARE?modules=financialData%2CquoteType%2CdefaultKeyStatistics%2CassetProfile%2CsummaryDetail&corsDomain=finance.yahoo.com&formatted=false&symbol=RARE&crumb=Edge%3A+Too+Many+Requests\n"
          ]
        },
        {
          "output_type": "stream",
          "name": "stdout",
          "text": [
            "Error getting data for RARE: Expecting value: line 1 column 1 (char 0)\n"
          ]
        },
        {
          "output_type": "stream",
          "name": "stderr",
          "text": [
            "ERROR:yfinance:429 Client Error: Too Many Requests for url: https://query2.finance.yahoo.com/v10/finance/quoteSummary/RDNT?modules=financialData%2CquoteType%2CdefaultKeyStatistics%2CassetProfile%2CsummaryDetail&corsDomain=finance.yahoo.com&formatted=false&symbol=RDNT&crumb=Edge%3A+Too+Many+Requests\n"
          ]
        },
        {
          "output_type": "stream",
          "name": "stdout",
          "text": [
            "Error getting data for RDNT: Expecting value: line 1 column 1 (char 0)\n"
          ]
        },
        {
          "output_type": "stream",
          "name": "stderr",
          "text": [
            "ERROR:yfinance:429 Client Error: Too Many Requests for url: https://query2.finance.yahoo.com/v10/finance/quoteSummary/REGN?modules=financialData%2CquoteType%2CdefaultKeyStatistics%2CassetProfile%2CsummaryDetail&corsDomain=finance.yahoo.com&formatted=false&symbol=REGN&crumb=Edge%3A+Too+Many+Requests\n"
          ]
        },
        {
          "output_type": "stream",
          "name": "stdout",
          "text": [
            "Error getting data for REGN: Expecting value: line 1 column 1 (char 0)\n"
          ]
        },
        {
          "output_type": "stream",
          "name": "stderr",
          "text": [
            "ERROR:yfinance:429 Client Error: Too Many Requests for url: https://query2.finance.yahoo.com/v10/finance/quoteSummary/RGEN?modules=financialData%2CquoteType%2CdefaultKeyStatistics%2CassetProfile%2CsummaryDetail&corsDomain=finance.yahoo.com&formatted=false&symbol=RGEN&crumb=Edge%3A+Too+Many+Requests\n"
          ]
        },
        {
          "output_type": "stream",
          "name": "stdout",
          "text": [
            "Error getting data for RGEN: Expecting value: line 1 column 1 (char 0)\n"
          ]
        },
        {
          "output_type": "stream",
          "name": "stderr",
          "text": [
            "ERROR:yfinance:429 Client Error: Too Many Requests for url: https://query2.finance.yahoo.com/v10/finance/quoteSummary/RNA?modules=financialData%2CquoteType%2CdefaultKeyStatistics%2CassetProfile%2CsummaryDetail&corsDomain=finance.yahoo.com&formatted=false&symbol=RNA&crumb=Edge%3A+Too+Many+Requests\n"
          ]
        },
        {
          "output_type": "stream",
          "name": "stdout",
          "text": [
            "Error getting data for RNA: Expecting value: line 1 column 1 (char 0)\n"
          ]
        },
        {
          "output_type": "stream",
          "name": "stderr",
          "text": [
            "ERROR:yfinance:429 Client Error: Too Many Requests for url: https://query2.finance.yahoo.com/v10/finance/quoteSummary/ROIV?modules=financialData%2CquoteType%2CdefaultKeyStatistics%2CassetProfile%2CsummaryDetail&corsDomain=finance.yahoo.com&formatted=false&symbol=ROIV&crumb=Edge%3A+Too+Many+Requests\n"
          ]
        },
        {
          "output_type": "stream",
          "name": "stdout",
          "text": [
            "Error getting data for ROIV: Expecting value: line 1 column 1 (char 0)\n"
          ]
        },
        {
          "output_type": "stream",
          "name": "stderr",
          "text": [
            "ERROR:yfinance:429 Client Error: Too Many Requests for url: https://query2.finance.yahoo.com/v10/finance/quoteSummary/RPRX?modules=financialData%2CquoteType%2CdefaultKeyStatistics%2CassetProfile%2CsummaryDetail&corsDomain=finance.yahoo.com&formatted=false&symbol=RPRX&crumb=Edge%3A+Too+Many+Requests\n"
          ]
        },
        {
          "output_type": "stream",
          "name": "stdout",
          "text": [
            "Error getting data for RPRX: Expecting value: line 1 column 1 (char 0)\n"
          ]
        },
        {
          "output_type": "stream",
          "name": "stderr",
          "text": [
            "ERROR:yfinance:429 Client Error: Too Many Requests for url: https://query2.finance.yahoo.com/v10/finance/quoteSummary/RVMD?modules=financialData%2CquoteType%2CdefaultKeyStatistics%2CassetProfile%2CsummaryDetail&corsDomain=finance.yahoo.com&formatted=false&symbol=RVMD&crumb=Edge%3A+Too+Many+Requests\n"
          ]
        },
        {
          "output_type": "stream",
          "name": "stdout",
          "text": [
            "Error getting data for RVMD: Expecting value: line 1 column 1 (char 0)\n"
          ]
        },
        {
          "output_type": "stream",
          "name": "stderr",
          "text": [
            "ERROR:yfinance:429 Client Error: Too Many Requests for url: https://query2.finance.yahoo.com/v10/finance/quoteSummary/RYTM?modules=financialData%2CquoteType%2CdefaultKeyStatistics%2CassetProfile%2CsummaryDetail&corsDomain=finance.yahoo.com&formatted=false&symbol=RYTM&crumb=Edge%3A+Too+Many+Requests\n"
          ]
        },
        {
          "output_type": "stream",
          "name": "stdout",
          "text": [
            "Error getting data for RYTM: Expecting value: line 1 column 1 (char 0)\n"
          ]
        },
        {
          "output_type": "stream",
          "name": "stderr",
          "text": [
            "ERROR:yfinance:429 Client Error: Too Many Requests for url: https://query2.finance.yahoo.com/v10/finance/quoteSummary/SGRY?modules=financialData%2CquoteType%2CdefaultKeyStatistics%2CassetProfile%2CsummaryDetail&corsDomain=finance.yahoo.com&formatted=false&symbol=SGRY&crumb=Edge%3A+Too+Many+Requests\n"
          ]
        },
        {
          "output_type": "stream",
          "name": "stdout",
          "text": [
            "Error getting data for SGRY: Expecting value: line 1 column 1 (char 0)\n"
          ]
        },
        {
          "output_type": "stream",
          "name": "stderr",
          "text": [
            "ERROR:yfinance:429 Client Error: Too Many Requests for url: https://query2.finance.yahoo.com/v10/finance/quoteSummary/SHC?modules=financialData%2CquoteType%2CdefaultKeyStatistics%2CassetProfile%2CsummaryDetail&corsDomain=finance.yahoo.com&formatted=false&symbol=SHC&crumb=Edge%3A+Too+Many+Requests\n"
          ]
        },
        {
          "output_type": "stream",
          "name": "stdout",
          "text": [
            "Error getting data for SHC: Expecting value: line 1 column 1 (char 0)\n"
          ]
        },
        {
          "output_type": "stream",
          "name": "stderr",
          "text": [
            "ERROR:yfinance:429 Client Error: Too Many Requests for url: https://query2.finance.yahoo.com/v10/finance/quoteSummary/SMMT?modules=financialData%2CquoteType%2CdefaultKeyStatistics%2CassetProfile%2CsummaryDetail&corsDomain=finance.yahoo.com&formatted=false&symbol=SMMT&crumb=Edge%3A+Too+Many+Requests\n"
          ]
        },
        {
          "output_type": "stream",
          "name": "stdout",
          "text": [
            "Error getting data for SMMT: Expecting value: line 1 column 1 (char 0)\n"
          ]
        },
        {
          "output_type": "stream",
          "name": "stderr",
          "text": [
            "ERROR:yfinance:429 Client Error: Too Many Requests for url: https://query2.finance.yahoo.com/v10/finance/quoteSummary/SNY?modules=financialData%2CquoteType%2CdefaultKeyStatistics%2CassetProfile%2CsummaryDetail&corsDomain=finance.yahoo.com&formatted=false&symbol=SNY&crumb=Edge%3A+Too+Many+Requests\n"
          ]
        },
        {
          "output_type": "stream",
          "name": "stdout",
          "text": [
            "Error getting data for SNY: Expecting value: line 1 column 1 (char 0)\n"
          ]
        },
        {
          "output_type": "stream",
          "name": "stderr",
          "text": [
            "ERROR:yfinance:429 Client Error: Too Many Requests for url: https://query2.finance.yahoo.com/v10/finance/quoteSummary/SRPT?modules=financialData%2CquoteType%2CdefaultKeyStatistics%2CassetProfile%2CsummaryDetail&corsDomain=finance.yahoo.com&formatted=false&symbol=SRPT&crumb=Edge%3A+Too+Many+Requests\n"
          ]
        },
        {
          "output_type": "stream",
          "name": "stdout",
          "text": [
            "Error getting data for SRPT: Expecting value: line 1 column 1 (char 0)\n"
          ]
        },
        {
          "output_type": "stream",
          "name": "stderr",
          "text": [
            "ERROR:yfinance:429 Client Error: Too Many Requests for url: https://query2.finance.yahoo.com/v10/finance/quoteSummary/SRRK?modules=financialData%2CquoteType%2CdefaultKeyStatistics%2CassetProfile%2CsummaryDetail&corsDomain=finance.yahoo.com&formatted=false&symbol=SRRK&crumb=Edge%3A+Too+Many+Requests\n"
          ]
        },
        {
          "output_type": "stream",
          "name": "stdout",
          "text": [
            "Error getting data for SRRK: Expecting value: line 1 column 1 (char 0)\n"
          ]
        },
        {
          "output_type": "stream",
          "name": "stderr",
          "text": [
            "ERROR:yfinance:429 Client Error: Too Many Requests for url: https://query2.finance.yahoo.com/v10/finance/quoteSummary/SWTX?modules=financialData%2CquoteType%2CdefaultKeyStatistics%2CassetProfile%2CsummaryDetail&corsDomain=finance.yahoo.com&formatted=false&symbol=SWTX&crumb=Edge%3A+Too+Many+Requests\n"
          ]
        },
        {
          "output_type": "stream",
          "name": "stdout",
          "text": [
            "Error getting data for SWTX: Expecting value: line 1 column 1 (char 0)\n"
          ]
        },
        {
          "output_type": "stream",
          "name": "stderr",
          "text": [
            "ERROR:yfinance:429 Client Error: Too Many Requests for url: https://query2.finance.yahoo.com/v10/finance/quoteSummary/TARS?modules=financialData%2CquoteType%2CdefaultKeyStatistics%2CassetProfile%2CsummaryDetail&corsDomain=finance.yahoo.com&formatted=false&symbol=TARS&crumb=Edge%3A+Too+Many+Requests\n"
          ]
        },
        {
          "output_type": "stream",
          "name": "stdout",
          "text": [
            "Error getting data for TARS: Expecting value: line 1 column 1 (char 0)\n"
          ]
        },
        {
          "output_type": "stream",
          "name": "stderr",
          "text": [
            "ERROR:yfinance:429 Client Error: Too Many Requests for url: https://query2.finance.yahoo.com/v10/finance/quoteSummary/TECH?modules=financialData%2CquoteType%2CdefaultKeyStatistics%2CassetProfile%2CsummaryDetail&corsDomain=finance.yahoo.com&formatted=false&symbol=TECH&crumb=Edge%3A+Too+Many+Requests\n"
          ]
        },
        {
          "output_type": "stream",
          "name": "stdout",
          "text": [
            "Error getting data for TECH: Expecting value: line 1 column 1 (char 0)\n"
          ]
        },
        {
          "output_type": "stream",
          "name": "stderr",
          "text": [
            "ERROR:yfinance:429 Client Error: Too Many Requests for url: https://query2.finance.yahoo.com/v10/finance/quoteSummary/TEM?modules=financialData%2CquoteType%2CdefaultKeyStatistics%2CassetProfile%2CsummaryDetail&corsDomain=finance.yahoo.com&formatted=false&symbol=TEM&crumb=Edge%3A+Too+Many+Requests\n"
          ]
        },
        {
          "output_type": "stream",
          "name": "stdout",
          "text": [
            "Error getting data for TEM: Expecting value: line 1 column 1 (char 0)\n"
          ]
        },
        {
          "output_type": "stream",
          "name": "stderr",
          "text": [
            "ERROR:yfinance:429 Client Error: Too Many Requests for url: https://query2.finance.yahoo.com/v10/finance/quoteSummary/TGTX?modules=financialData%2CquoteType%2CdefaultKeyStatistics%2CassetProfile%2CsummaryDetail&corsDomain=finance.yahoo.com&formatted=false&symbol=TGTX&crumb=Edge%3A+Too+Many+Requests\n"
          ]
        },
        {
          "output_type": "stream",
          "name": "stdout",
          "text": [
            "Error getting data for TGTX: Expecting value: line 1 column 1 (char 0)\n"
          ]
        },
        {
          "output_type": "stream",
          "name": "stderr",
          "text": [
            "ERROR:yfinance:429 Client Error: Too Many Requests for url: https://query2.finance.yahoo.com/v10/finance/quoteSummary/TMDX?modules=financialData%2CquoteType%2CdefaultKeyStatistics%2CassetProfile%2CsummaryDetail&corsDomain=finance.yahoo.com&formatted=false&symbol=TMDX&crumb=Edge%3A+Too+Many+Requests\n"
          ]
        },
        {
          "output_type": "stream",
          "name": "stdout",
          "text": [
            "Error getting data for TMDX: Expecting value: line 1 column 1 (char 0)\n"
          ]
        },
        {
          "output_type": "stream",
          "name": "stderr",
          "text": [
            "ERROR:yfinance:429 Client Error: Too Many Requests for url: https://query2.finance.yahoo.com/v10/finance/quoteSummary/TNDM?modules=financialData%2CquoteType%2CdefaultKeyStatistics%2CassetProfile%2CsummaryDetail&corsDomain=finance.yahoo.com&formatted=false&symbol=TNDM&crumb=Edge%3A+Too+Many+Requests\n"
          ]
        },
        {
          "output_type": "stream",
          "name": "stdout",
          "text": [
            "Error getting data for TNDM: Expecting value: line 1 column 1 (char 0)\n"
          ]
        },
        {
          "output_type": "stream",
          "name": "stderr",
          "text": [
            "ERROR:yfinance:429 Client Error: Too Many Requests for url: https://query2.finance.yahoo.com/v10/finance/quoteSummary/TWST?modules=financialData%2CquoteType%2CdefaultKeyStatistics%2CassetProfile%2CsummaryDetail&corsDomain=finance.yahoo.com&formatted=false&symbol=TWST&crumb=Edge%3A+Too+Many+Requests\n"
          ]
        },
        {
          "output_type": "stream",
          "name": "stdout",
          "text": [
            "Error getting data for TWST: Expecting value: line 1 column 1 (char 0)\n"
          ]
        },
        {
          "output_type": "stream",
          "name": "stderr",
          "text": [
            "ERROR:yfinance:429 Client Error: Too Many Requests for url: https://query2.finance.yahoo.com/v10/finance/quoteSummary/VCYT?modules=financialData%2CquoteType%2CdefaultKeyStatistics%2CassetProfile%2CsummaryDetail&corsDomain=finance.yahoo.com&formatted=false&symbol=VCYT&crumb=Edge%3A+Too+Many+Requests\n"
          ]
        },
        {
          "output_type": "stream",
          "name": "stdout",
          "text": [
            "Error getting data for VCYT: Expecting value: line 1 column 1 (char 0)\n"
          ]
        },
        {
          "output_type": "stream",
          "name": "stderr",
          "text": [
            "ERROR:yfinance:429 Client Error: Too Many Requests for url: https://query2.finance.yahoo.com/v10/finance/quoteSummary/VERA?modules=financialData%2CquoteType%2CdefaultKeyStatistics%2CassetProfile%2CsummaryDetail&corsDomain=finance.yahoo.com&formatted=false&symbol=VERA&crumb=Edge%3A+Too+Many+Requests\n"
          ]
        },
        {
          "output_type": "stream",
          "name": "stdout",
          "text": [
            "Error getting data for VERA: Expecting value: line 1 column 1 (char 0)\n"
          ]
        },
        {
          "output_type": "stream",
          "name": "stderr",
          "text": [
            "ERROR:yfinance:429 Client Error: Too Many Requests for url: https://query2.finance.yahoo.com/v10/finance/quoteSummary/VKTX?modules=financialData%2CquoteType%2CdefaultKeyStatistics%2CassetProfile%2CsummaryDetail&corsDomain=finance.yahoo.com&formatted=false&symbol=VKTX&crumb=Edge%3A+Too+Many+Requests\n"
          ]
        },
        {
          "output_type": "stream",
          "name": "stdout",
          "text": [
            "Error getting data for VKTX: Expecting value: line 1 column 1 (char 0)\n"
          ]
        },
        {
          "output_type": "stream",
          "name": "stderr",
          "text": [
            "ERROR:yfinance:429 Client Error: Too Many Requests for url: https://query2.finance.yahoo.com/v10/finance/quoteSummary/VRNA?modules=financialData%2CquoteType%2CdefaultKeyStatistics%2CassetProfile%2CsummaryDetail&corsDomain=finance.yahoo.com&formatted=false&symbol=VRNA&crumb=Edge%3A+Too+Many+Requests\n"
          ]
        },
        {
          "output_type": "stream",
          "name": "stdout",
          "text": [
            "Error getting data for VRNA: Expecting value: line 1 column 1 (char 0)\n"
          ]
        },
        {
          "output_type": "stream",
          "name": "stderr",
          "text": [
            "ERROR:yfinance:429 Client Error: Too Many Requests for url: https://query2.finance.yahoo.com/v10/finance/quoteSummary/VRTX?modules=financialData%2CquoteType%2CdefaultKeyStatistics%2CassetProfile%2CsummaryDetail&corsDomain=finance.yahoo.com&formatted=false&symbol=VRTX&crumb=Edge%3A+Too+Many+Requests\n"
          ]
        },
        {
          "output_type": "stream",
          "name": "stdout",
          "text": [
            "Error getting data for VRTX: Expecting value: line 1 column 1 (char 0)\n"
          ]
        },
        {
          "output_type": "stream",
          "name": "stderr",
          "text": [
            "ERROR:yfinance:429 Client Error: Too Many Requests for url: https://query2.finance.yahoo.com/v10/finance/quoteSummary/VTRS?modules=financialData%2CquoteType%2CdefaultKeyStatistics%2CassetProfile%2CsummaryDetail&corsDomain=finance.yahoo.com&formatted=false&symbol=VTRS&crumb=Edge%3A+Too+Many+Requests\n"
          ]
        },
        {
          "output_type": "stream",
          "name": "stdout",
          "text": [
            "Error getting data for VTRS: Expecting value: line 1 column 1 (char 0)\n"
          ]
        },
        {
          "output_type": "stream",
          "name": "stderr",
          "text": [
            "ERROR:yfinance:429 Client Error: Too Many Requests for url: https://query2.finance.yahoo.com/v10/finance/quoteSummary/WAY?modules=financialData%2CquoteType%2CdefaultKeyStatistics%2CassetProfile%2CsummaryDetail&corsDomain=finance.yahoo.com&formatted=false&symbol=WAY&crumb=Edge%3A+Too+Many+Requests\n"
          ]
        },
        {
          "output_type": "stream",
          "name": "stdout",
          "text": [
            "Error getting data for WAY: Expecting value: line 1 column 1 (char 0)\n"
          ]
        },
        {
          "output_type": "stream",
          "name": "stderr",
          "text": [
            "ERROR:yfinance:429 Client Error: Too Many Requests for url: https://query2.finance.yahoo.com/v10/finance/quoteSummary/WBA?modules=financialData%2CquoteType%2CdefaultKeyStatistics%2CassetProfile%2CsummaryDetail&corsDomain=finance.yahoo.com&formatted=false&symbol=WBA&crumb=Edge%3A+Too+Many+Requests\n"
          ]
        },
        {
          "output_type": "stream",
          "name": "stdout",
          "text": [
            "Error getting data for WBA: Expecting value: line 1 column 1 (char 0)\n"
          ]
        },
        {
          "output_type": "stream",
          "name": "stderr",
          "text": [
            "ERROR:yfinance:429 Client Error: Too Many Requests for url: https://query2.finance.yahoo.com/v10/finance/quoteSummary/WGS?modules=financialData%2CquoteType%2CdefaultKeyStatistics%2CassetProfile%2CsummaryDetail&corsDomain=finance.yahoo.com&formatted=false&symbol=WGS&crumb=Edge%3A+Too+Many+Requests\n"
          ]
        },
        {
          "output_type": "stream",
          "name": "stdout",
          "text": [
            "Error getting data for WGS: Expecting value: line 1 column 1 (char 0)\n"
          ]
        },
        {
          "output_type": "stream",
          "name": "stderr",
          "text": [
            "ERROR:yfinance:429 Client Error: Too Many Requests for url: https://query2.finance.yahoo.com/v10/finance/quoteSummary/XRAY?modules=financialData%2CquoteType%2CdefaultKeyStatistics%2CassetProfile%2CsummaryDetail&corsDomain=finance.yahoo.com&formatted=false&symbol=XRAY&crumb=Edge%3A+Too+Many+Requests\n"
          ]
        },
        {
          "output_type": "stream",
          "name": "stdout",
          "text": [
            "Error getting data for XRAY: Expecting value: line 1 column 1 (char 0)\n"
          ]
        },
        {
          "output_type": "stream",
          "name": "stderr",
          "text": [
            "ERROR:yfinance:429 Client Error: Too Many Requests for url: https://query2.finance.yahoo.com/v10/finance/quoteSummary/ZLAB?modules=financialData%2CquoteType%2CdefaultKeyStatistics%2CassetProfile%2CsummaryDetail&corsDomain=finance.yahoo.com&formatted=false&symbol=ZLAB&crumb=Edge%3A+Too+Many+Requests\n"
          ]
        },
        {
          "output_type": "stream",
          "name": "stdout",
          "text": [
            "Error getting data for ZLAB: Expecting value: line 1 column 1 (char 0)\n"
          ]
        },
        {
          "output_type": "stream",
          "name": "stderr",
          "text": [
            "ERROR:yfinance:Failed to get ticker 'CALM' reason: Expecting value: line 1 column 1 (char 0)\n",
            "ERROR:yfinance:$CALM: possibly delisted; no price data found  (period=6mo)\n",
            "ERROR:yfinance:Failed to get ticker 'CCEP' reason: Expecting value: line 1 column 1 (char 0)\n",
            "ERROR:yfinance:$CCEP: possibly delisted; no price data found  (period=6mo)\n",
            "ERROR:yfinance:Failed to get ticker 'CELH' reason: Expecting value: line 1 column 1 (char 0)\n",
            "ERROR:yfinance:$CELH: possibly delisted; no price data found  (period=6mo)\n",
            "ERROR:yfinance:Failed to get ticker 'COST' reason: Expecting value: line 1 column 1 (char 0)\n",
            "ERROR:yfinance:$COST: possibly delisted; no price data found  (period=6mo)\n",
            "ERROR:yfinance:Failed to get ticker 'CPB' reason: Expecting value: line 1 column 1 (char 0)\n",
            "ERROR:yfinance:$CPB: possibly delisted; no price data found  (period=6mo)\n",
            "ERROR:yfinance:Failed to get ticker 'DLTR' reason: Expecting value: line 1 column 1 (char 0)\n",
            "ERROR:yfinance:$DLTR: possibly delisted; no price data found  (period=6mo)\n",
            "ERROR:yfinance:Failed to get ticker 'FRPT' reason: Expecting value: line 1 column 1 (char 0)\n",
            "ERROR:yfinance:$FRPT: possibly delisted; no price data found  (period=6mo)\n",
            "ERROR:yfinance:Failed to get ticker 'KDP' reason: Expecting value: line 1 column 1 (char 0)\n",
            "ERROR:yfinance:$KDP: possibly delisted; no price data found  (period=6mo)\n",
            "ERROR:yfinance:Failed to get ticker 'KHC' reason: Expecting value: line 1 column 1 (char 0)\n",
            "ERROR:yfinance:$KHC: possibly delisted; no price data found  (period=6mo)\n",
            "ERROR:yfinance:Failed to get ticker 'LAUR' reason: Expecting value: line 1 column 1 (char 0)\n",
            "ERROR:yfinance:$LAUR: possibly delisted; no price data found  (period=6mo)\n",
            "ERROR:yfinance:Failed to get ticker 'MDLZ' reason: Expecting value: line 1 column 1 (char 0)\n",
            "ERROR:yfinance:$MDLZ: possibly delisted; no price data found  (period=6mo)\n",
            "ERROR:yfinance:Failed to get ticker 'MNST' reason: Expecting value: line 1 column 1 (char 0)\n",
            "ERROR:yfinance:$MNST: possibly delisted; no price data found  (period=6mo)\n",
            "ERROR:yfinance:Failed to get ticker 'OLLI' reason: Expecting value: line 1 column 1 (char 0)\n",
            "ERROR:yfinance:$OLLI: possibly delisted; no price data found  (period=6mo)\n",
            "ERROR:yfinance:Failed to get ticker 'PEP' reason: Expecting value: line 1 column 1 (char 0)\n",
            "ERROR:yfinance:$PEP: possibly delisted; no price data found  (period=6mo)\n",
            "ERROR:yfinance:Failed to get ticker 'PPC' reason: Expecting value: line 1 column 1 (char 0)\n",
            "ERROR:yfinance:$PPC: possibly delisted; no price data found  (period=6mo)\n",
            "ERROR:yfinance:Failed to get ticker 'SFM' reason: Expecting value: line 1 column 1 (char 0)\n",
            "ERROR:yfinance:$SFM: possibly delisted; no price data found  (period=6mo)\n",
            "ERROR:yfinance:Failed to get ticker 'SMPL' reason: Expecting value: line 1 column 1 (char 0)\n",
            "ERROR:yfinance:$SMPL: possibly delisted; no price data found  (period=6mo)\n",
            "ERROR:yfinance:429 Client Error: Too Many Requests for url: https://query2.finance.yahoo.com/v10/finance/quoteSummary/CALM?modules=financialData%2CquoteType%2CdefaultKeyStatistics%2CassetProfile%2CsummaryDetail&corsDomain=finance.yahoo.com&formatted=false&symbol=CALM&crumb=Edge%3A+Too+Many+Requests\n"
          ]
        },
        {
          "output_type": "stream",
          "name": "stdout",
          "text": [
            "Error getting data for CALM: Expecting value: line 1 column 1 (char 0)\n"
          ]
        },
        {
          "output_type": "stream",
          "name": "stderr",
          "text": [
            "ERROR:yfinance:429 Client Error: Too Many Requests for url: https://query2.finance.yahoo.com/v10/finance/quoteSummary/CCEP?modules=financialData%2CquoteType%2CdefaultKeyStatistics%2CassetProfile%2CsummaryDetail&corsDomain=finance.yahoo.com&formatted=false&symbol=CCEP&crumb=Edge%3A+Too+Many+Requests\n"
          ]
        },
        {
          "output_type": "stream",
          "name": "stdout",
          "text": [
            "Error getting data for CCEP: Expecting value: line 1 column 1 (char 0)\n"
          ]
        },
        {
          "output_type": "stream",
          "name": "stderr",
          "text": [
            "ERROR:yfinance:429 Client Error: Too Many Requests for url: https://query2.finance.yahoo.com/v10/finance/quoteSummary/CELH?modules=financialData%2CquoteType%2CdefaultKeyStatistics%2CassetProfile%2CsummaryDetail&corsDomain=finance.yahoo.com&formatted=false&symbol=CELH&crumb=Edge%3A+Too+Many+Requests\n"
          ]
        },
        {
          "output_type": "stream",
          "name": "stdout",
          "text": [
            "Error getting data for CELH: Expecting value: line 1 column 1 (char 0)\n"
          ]
        },
        {
          "output_type": "stream",
          "name": "stderr",
          "text": [
            "ERROR:yfinance:429 Client Error: Too Many Requests for url: https://query2.finance.yahoo.com/v10/finance/quoteSummary/COST?modules=financialData%2CquoteType%2CdefaultKeyStatistics%2CassetProfile%2CsummaryDetail&corsDomain=finance.yahoo.com&formatted=false&symbol=COST&crumb=Edge%3A+Too+Many+Requests\n"
          ]
        },
        {
          "output_type": "stream",
          "name": "stdout",
          "text": [
            "Error getting data for COST: Expecting value: line 1 column 1 (char 0)\n"
          ]
        },
        {
          "output_type": "stream",
          "name": "stderr",
          "text": [
            "ERROR:yfinance:429 Client Error: Too Many Requests for url: https://query2.finance.yahoo.com/v10/finance/quoteSummary/CPB?modules=financialData%2CquoteType%2CdefaultKeyStatistics%2CassetProfile%2CsummaryDetail&corsDomain=finance.yahoo.com&formatted=false&symbol=CPB&crumb=Edge%3A+Too+Many+Requests\n"
          ]
        },
        {
          "output_type": "stream",
          "name": "stdout",
          "text": [
            "Error getting data for CPB: Expecting value: line 1 column 1 (char 0)\n"
          ]
        },
        {
          "output_type": "stream",
          "name": "stderr",
          "text": [
            "ERROR:yfinance:429 Client Error: Too Many Requests for url: https://query2.finance.yahoo.com/v10/finance/quoteSummary/DLTR?modules=financialData%2CquoteType%2CdefaultKeyStatistics%2CassetProfile%2CsummaryDetail&corsDomain=finance.yahoo.com&formatted=false&symbol=DLTR&crumb=Edge%3A+Too+Many+Requests\n"
          ]
        },
        {
          "output_type": "stream",
          "name": "stdout",
          "text": [
            "Error getting data for DLTR: Expecting value: line 1 column 1 (char 0)\n"
          ]
        },
        {
          "output_type": "stream",
          "name": "stderr",
          "text": [
            "ERROR:yfinance:429 Client Error: Too Many Requests for url: https://query2.finance.yahoo.com/v10/finance/quoteSummary/FRPT?modules=financialData%2CquoteType%2CdefaultKeyStatistics%2CassetProfile%2CsummaryDetail&corsDomain=finance.yahoo.com&formatted=false&symbol=FRPT&crumb=Edge%3A+Too+Many+Requests\n"
          ]
        },
        {
          "output_type": "stream",
          "name": "stdout",
          "text": [
            "Error getting data for FRPT: Expecting value: line 1 column 1 (char 0)\n"
          ]
        },
        {
          "output_type": "stream",
          "name": "stderr",
          "text": [
            "ERROR:yfinance:429 Client Error: Too Many Requests for url: https://query2.finance.yahoo.com/v10/finance/quoteSummary/KDP?modules=financialData%2CquoteType%2CdefaultKeyStatistics%2CassetProfile%2CsummaryDetail&corsDomain=finance.yahoo.com&formatted=false&symbol=KDP&crumb=Edge%3A+Too+Many+Requests\n"
          ]
        },
        {
          "output_type": "stream",
          "name": "stdout",
          "text": [
            "Error getting data for KDP: Expecting value: line 1 column 1 (char 0)\n"
          ]
        },
        {
          "output_type": "stream",
          "name": "stderr",
          "text": [
            "ERROR:yfinance:429 Client Error: Too Many Requests for url: https://query2.finance.yahoo.com/v10/finance/quoteSummary/KHC?modules=financialData%2CquoteType%2CdefaultKeyStatistics%2CassetProfile%2CsummaryDetail&corsDomain=finance.yahoo.com&formatted=false&symbol=KHC&crumb=Edge%3A+Too+Many+Requests\n"
          ]
        },
        {
          "output_type": "stream",
          "name": "stdout",
          "text": [
            "Error getting data for KHC: Expecting value: line 1 column 1 (char 0)\n"
          ]
        },
        {
          "output_type": "stream",
          "name": "stderr",
          "text": [
            "ERROR:yfinance:429 Client Error: Too Many Requests for url: https://query2.finance.yahoo.com/v10/finance/quoteSummary/LAUR?modules=financialData%2CquoteType%2CdefaultKeyStatistics%2CassetProfile%2CsummaryDetail&corsDomain=finance.yahoo.com&formatted=false&symbol=LAUR&crumb=Edge%3A+Too+Many+Requests\n"
          ]
        },
        {
          "output_type": "stream",
          "name": "stdout",
          "text": [
            "Error getting data for LAUR: Expecting value: line 1 column 1 (char 0)\n"
          ]
        },
        {
          "output_type": "stream",
          "name": "stderr",
          "text": [
            "ERROR:yfinance:429 Client Error: Too Many Requests for url: https://query2.finance.yahoo.com/v10/finance/quoteSummary/MDLZ?modules=financialData%2CquoteType%2CdefaultKeyStatistics%2CassetProfile%2CsummaryDetail&corsDomain=finance.yahoo.com&formatted=false&symbol=MDLZ&crumb=Edge%3A+Too+Many+Requests\n"
          ]
        },
        {
          "output_type": "stream",
          "name": "stdout",
          "text": [
            "Error getting data for MDLZ: Expecting value: line 1 column 1 (char 0)\n"
          ]
        },
        {
          "output_type": "stream",
          "name": "stderr",
          "text": [
            "ERROR:yfinance:429 Client Error: Too Many Requests for url: https://query2.finance.yahoo.com/v10/finance/quoteSummary/MNST?modules=financialData%2CquoteType%2CdefaultKeyStatistics%2CassetProfile%2CsummaryDetail&corsDomain=finance.yahoo.com&formatted=false&symbol=MNST&crumb=Edge%3A+Too+Many+Requests\n"
          ]
        },
        {
          "output_type": "stream",
          "name": "stdout",
          "text": [
            "Error getting data for MNST: Expecting value: line 1 column 1 (char 0)\n"
          ]
        },
        {
          "output_type": "stream",
          "name": "stderr",
          "text": [
            "ERROR:yfinance:429 Client Error: Too Many Requests for url: https://query2.finance.yahoo.com/v10/finance/quoteSummary/OLLI?modules=financialData%2CquoteType%2CdefaultKeyStatistics%2CassetProfile%2CsummaryDetail&corsDomain=finance.yahoo.com&formatted=false&symbol=OLLI&crumb=Edge%3A+Too+Many+Requests\n"
          ]
        },
        {
          "output_type": "stream",
          "name": "stdout",
          "text": [
            "Error getting data for OLLI: Expecting value: line 1 column 1 (char 0)\n"
          ]
        },
        {
          "output_type": "stream",
          "name": "stderr",
          "text": [
            "ERROR:yfinance:429 Client Error: Too Many Requests for url: https://query2.finance.yahoo.com/v10/finance/quoteSummary/PEP?modules=financialData%2CquoteType%2CdefaultKeyStatistics%2CassetProfile%2CsummaryDetail&corsDomain=finance.yahoo.com&formatted=false&symbol=PEP&crumb=Edge%3A+Too+Many+Requests\n"
          ]
        },
        {
          "output_type": "stream",
          "name": "stdout",
          "text": [
            "Error getting data for PEP: Expecting value: line 1 column 1 (char 0)\n"
          ]
        },
        {
          "output_type": "stream",
          "name": "stderr",
          "text": [
            "ERROR:yfinance:429 Client Error: Too Many Requests for url: https://query2.finance.yahoo.com/v10/finance/quoteSummary/PPC?modules=financialData%2CquoteType%2CdefaultKeyStatistics%2CassetProfile%2CsummaryDetail&corsDomain=finance.yahoo.com&formatted=false&symbol=PPC&crumb=Edge%3A+Too+Many+Requests\n"
          ]
        },
        {
          "output_type": "stream",
          "name": "stdout",
          "text": [
            "Error getting data for PPC: Expecting value: line 1 column 1 (char 0)\n"
          ]
        },
        {
          "output_type": "stream",
          "name": "stderr",
          "text": [
            "ERROR:yfinance:429 Client Error: Too Many Requests for url: https://query2.finance.yahoo.com/v10/finance/quoteSummary/SFM?modules=financialData%2CquoteType%2CdefaultKeyStatistics%2CassetProfile%2CsummaryDetail&corsDomain=finance.yahoo.com&formatted=false&symbol=SFM&crumb=Edge%3A+Too+Many+Requests\n"
          ]
        },
        {
          "output_type": "stream",
          "name": "stdout",
          "text": [
            "Error getting data for SFM: Expecting value: line 1 column 1 (char 0)\n"
          ]
        },
        {
          "output_type": "stream",
          "name": "stderr",
          "text": [
            "ERROR:yfinance:429 Client Error: Too Many Requests for url: https://query2.finance.yahoo.com/v10/finance/quoteSummary/SMPL?modules=financialData%2CquoteType%2CdefaultKeyStatistics%2CassetProfile%2CsummaryDetail&corsDomain=finance.yahoo.com&formatted=false&symbol=SMPL&crumb=Edge%3A+Too+Many+Requests\n"
          ]
        },
        {
          "output_type": "stream",
          "name": "stdout",
          "text": [
            "Error getting data for SMPL: Expecting value: line 1 column 1 (char 0)\n",
            "\n",
            "Long Portfolio (High Quality + Momentum):\n",
            "    Ticker                             Company      Sector  Combined_Score  \\\n",
            "0      APP                       Applovin Corp  Technology        2.997189   \n",
            "1       KC     Kingsoft Cloud Holdings Ltd ADR  Technology        2.666265   \n",
            "140   GGAL        Grupo Financiero Galicia ADR   Financial        2.588492   \n",
            "2     PLTR           Palantir Technologies Inc  Technology        1.847653   \n",
            "3     CRDO  Credo Technology Group Holding Ltd  Technology        1.604569   \n",
            "\n",
            "     Quality_Score  XSMOM_Score  \n",
            "0         0.947284     5.047094  \n",
            "1         0.551682     4.780848  \n",
            "140       1.190477     3.986506  \n",
            "2         1.338468     2.356837  \n",
            "3         0.901253     2.307884  \n",
            "\n",
            "Short Portfolio (Low Quality + Momentum):\n",
            "    Ticker            Company      Sector  Combined_Score  Quality_Score  \\\n",
            "191   MARA  MARA Holdings Inc   Financial       -0.974508      -1.092267   \n",
            "138    RUN         Sunrun Inc  Technology       -1.164273      -1.329677   \n",
            "192   CLSK     Cleanspark Inc   Financial       -1.279440      -0.929478   \n",
            "193     XP             XP Inc   Financial       -1.481637      -1.142197   \n",
            "139   INTU         Intuit Inc  Technology             NaN       0.259334   \n",
            "\n",
            "     XSMOM_Score  \n",
            "191    -0.856748  \n",
            "138    -0.998868  \n",
            "192    -1.629402  \n",
            "193    -1.821078  \n",
            "139          NaN  \n",
            "\n",
            "Spread: 3.5657978518357014\n"
          ]
        }
      ]
    },
    {
      "cell_type": "markdown",
      "source": [
        "**QJM + XSMOM +HRP**\n",
        "\n",
        "\n"
      ],
      "metadata": {
        "id": "U3KqDYV1PwHU"
      }
    },
    {
      "cell_type": "code",
      "source": [
        "from finvizfinance.screener.overview import Overview\n",
        "import yfinance as yf\n",
        "import pandas as pd\n",
        "import numpy as np\n",
        "import scipy.cluster.hierarchy as sch\n",
        "from scipy.spatial.distance import squareform\n",
        "import time\n",
        "\n",
        "class CombinedModel:\n",
        "    def __init__(self):\n",
        "        self.screener = Overview()\n",
        "\n",
        "    def get_sector_data(self, sector):\n",
        "        filters_dict = {\n",
        "            'Exchange': 'NASDAQ',\n",
        "            'Market Cap.': '+Mid (over $2bln)',\n",
        "            'Average Volume': 'Over 500K',\n",
        "            'Price': 'Over $10',\n",
        "            'Sector': sector\n",
        "        }\n",
        "        self.screener.set_filter(filters_dict=filters_dict)\n",
        "        return self.screener.screener_view()\n",
        "\n",
        "    def calculate_xsmom(self, ticker, universe_returns):\n",
        "        stock = yf.Ticker(ticker)\n",
        "        hist = stock.history(period=\"6mo\")\n",
        "        if hist.empty:\n",
        "            return 0\n",
        "\n",
        "        stock_return = ((hist['Close'].iloc[-1] / hist['Close'].iloc[0]) - 1) * 100\n",
        "        mean_return = universe_returns['Returns'].mean()\n",
        "        std_return = universe_returns['Returns'].std()\n",
        "\n",
        "        return (stock_return - mean_return) / std_return\n",
        "\n",
        "    def get_stock_fundamentals(self, ticker):\n",
        "        try:\n",
        "            stock = yf.Ticker(ticker)\n",
        "            info = stock.info\n",
        "            hist = stock.history(period=\"1y\")\n",
        "\n",
        "            returns = hist['Close'].pct_change()\n",
        "            growth_rate = ((hist['Close'].iloc[-1] / hist['Close'].iloc[0]) - 1) * 100\n",
        "            volatility = returns.std() * np.sqrt(252)\n",
        "\n",
        "            return {\n",
        "                'Ticker': ticker,\n",
        "                'ROE': info.get('returnOnEquity', 0),\n",
        "                'ROA': info.get('returnOnAssets', 0),\n",
        "                'OperatingMargin': info.get('operatingMargins', 0),\n",
        "                'Beta': info.get('beta', 1),\n",
        "                'DebtToEquity': info.get('debtToEquity', 0),\n",
        "                'GrowthRate': growth_rate,\n",
        "                'Volatility': volatility\n",
        "            }\n",
        "        except Exception as e:\n",
        "            print(f\"Error getting data for {ticker}: {str(e)}\")\n",
        "            return None\n",
        "\n",
        "    def analyze_sector(self, sector):\n",
        "        df = self.get_sector_data(sector)\n",
        "        if df.empty:\n",
        "            return pd.DataFrame()\n",
        "\n",
        "        universe_returns = []\n",
        "        for ticker in df['Ticker']:\n",
        "            try:\n",
        "                stock = yf.Ticker(ticker)\n",
        "                hist = stock.history(period=\"6mo\")\n",
        "                if not hist.empty:\n",
        "                    returns = ((hist['Close'].iloc[-1] / hist['Close'].iloc[0]) - 1) * 100\n",
        "                    universe_returns.append({\n",
        "                        'Ticker': ticker,\n",
        "                        'Returns': returns\n",
        "                    })\n",
        "                time.sleep(0.1)\n",
        "            except:\n",
        "                continue\n",
        "\n",
        "        universe_returns_df = pd.DataFrame(universe_returns)\n",
        "\n",
        "        detailed_data = []\n",
        "        for ticker in df['Ticker']:\n",
        "            data = self.get_stock_fundamentals(ticker)\n",
        "            if data:\n",
        "                xsmom = self.calculate_xsmom(ticker, universe_returns_df)\n",
        "                data['XSMOM_Score'] = xsmom\n",
        "                detailed_data.append(data)\n",
        "\n",
        "        if not detailed_data:\n",
        "            return pd.DataFrame()\n",
        "\n",
        "        detailed_df = pd.DataFrame(detailed_data)\n",
        "        df = df.merge(detailed_df, on='Ticker', how='inner')\n",
        "\n",
        "        for col in ['ROE', 'ROA', 'OperatingMargin', 'Beta', 'DebtToEquity', 'GrowthRate', 'Volatility']:\n",
        "            df[col] = df[col].clip(lower=df[col].quantile(0.05), upper=df[col].quantile(0.95))\n",
        "\n",
        "        profitability = df[['ROE', 'ROA', 'OperatingMargin']].mean(axis=1)\n",
        "        growth = df['GrowthRate']\n",
        "        safety = -(df[['Beta', 'DebtToEquity', 'Volatility']].mean(axis=1))\n",
        "\n",
        "        df['Profitability_Score'] = (profitability - profitability.mean()) / profitability.std()\n",
        "        df['Growth_Score'] = (growth - growth.mean()) / growth.std()\n",
        "        df['Safety_Score'] = (safety - safety.mean()) / safety.std()\n",
        "\n",
        "        df['Quality_Score'] = (df['Profitability_Score'] + df['Growth_Score'] + df['Safety_Score']) / 3\n",
        "        df['Combined_Score'] = (df['Quality_Score'] + df['XSMOM_Score']) / 2\n",
        "\n",
        "        return df.sort_values('Combined_Score', ascending=False)\n",
        "\n",
        "    def get_portfolio(self, n_stocks=5):\n",
        "        sectors = ['Technology', 'Financial', 'Healthcare', 'Consumer Defensive']\n",
        "        all_data = []\n",
        "\n",
        "        for sector in sectors:\n",
        "            sector_data = self.analyze_sector(sector)\n",
        "            if not sector_data.empty:\n",
        "                all_data.append(sector_data)\n",
        "\n",
        "        if not all_data:\n",
        "            raise ValueError(\"No data available for analysis\")\n",
        "\n",
        "        df = pd.concat(all_data, ignore_index=True)\n",
        "        df = df.sort_values('Combined_Score', ascending=False)\n",
        "\n",
        "        high_quality = df.head(n_stocks)\n",
        "        low_quality = df.tail(n_stocks)\n",
        "\n",
        "        return {\n",
        "            'long': high_quality[['Ticker', 'Company', 'Sector', 'Combined_Score', 'Quality_Score', 'XSMOM_Score']],\n",
        "            'short': low_quality[['Ticker', 'Company', 'Sector', 'Combined_Score', 'Quality_Score', 'XSMOM_Score']],\n",
        "            'spread': high_quality['Combined_Score'].mean() - low_quality['Combined_Score'].mean()\n",
        "        }\n",
        "\n",
        "class CombinedModelHRP(CombinedModel):\n",
        "    def __init__(self):\n",
        "        super().__init__()\n",
        "\n",
        "    def get_stock_returns(self, tickers, period='1y'):\n",
        "        returns_data = {}\n",
        "        for ticker in tickers:\n",
        "            try:\n",
        "                stock = yf.Ticker(ticker)\n",
        "                hist = stock.history(period=period)\n",
        "                if not hist.empty:\n",
        "                    returns = hist['Close'].pct_change().dropna()\n",
        "                    returns_data[ticker] = returns\n",
        "                time.sleep(0.1)\n",
        "            except Exception as e:\n",
        "                print(f\"Error getting returns for {ticker}: {str(e)}\")\n",
        "        return pd.DataFrame(returns_data)\n",
        "\n",
        "    def get_quasi_diag(self, link):\n",
        "        num_items = link[-1, 3]\n",
        "        cursors = [link[-1, 0], link[-1, 1]]\n",
        "        sorted_items = []\n",
        "\n",
        "        while len(sorted_items) < num_items:\n",
        "            for cursor in cursors:\n",
        "                if cursor < num_items:\n",
        "                    sorted_items.append(int(cursor))\n",
        "                    cursors.remove(cursor)\n",
        "                else:\n",
        "                    i = int(cursor - num_items)\n",
        "                    cursors.remove(cursor)\n",
        "                    cursors.extend([link[i, 0], link[i, 1]])\n",
        "\n",
        "        return sorted_items\n",
        "\n",
        "    def get_cluster_var(self, cov, cluster_indices):\n",
        "        cluster_cov = cov.iloc[cluster_indices, cluster_indices]\n",
        "        inv_diag = 1 / np.diag(cluster_cov)\n",
        "        weights = inv_diag / inv_diag.sum()\n",
        "        cluster_var = np.dot(np.dot(weights, cluster_cov), weights)\n",
        "        return cluster_var, weights\n",
        "\n",
        "    def optimize_portfolio(self, returns):\n",
        "        if returns.empty:\n",
        "            return pd.Series()\n",
        "\n",
        "        corr = returns.corr()\n",
        "        dist = np.sqrt(0.5 * (1 - corr))\n",
        "\n",
        "        condensed_dist = squareform(dist)\n",
        "        link = sch.linkage(condensed_dist, method='single')\n",
        "\n",
        "        sorted_indices = self.get_quasi_diag(link)\n",
        "        sorted_assets = returns.columns[sorted_indices].tolist()\n",
        "\n",
        "        cov = returns[sorted_assets].cov()\n",
        "        weights = pd.Series(1, index=sorted_assets)\n",
        "\n",
        "        def recursive_bisection(indices, level=0):\n",
        "            if len(indices) <= 1:\n",
        "                return\n",
        "\n",
        "            mid = len(indices) // 2\n",
        "            left_indices = indices[:mid]\n",
        "            right_indices = indices[mid:]\n",
        "\n",
        "            left_var, left_weights = self.get_cluster_var(cov, left_indices)\n",
        "            right_var, right_weights = self.get_cluster_var(cov, right_indices)\n",
        "\n",
        "            alpha = 1 - (left_var / (left_var + right_var))\n",
        "\n",
        "            for idx in left_indices:\n",
        "                weights[sorted_assets[idx]] *= alpha\n",
        "            for idx in right_indices:\n",
        "                weights[sorted_assets[idx]] *= (1 - alpha)\n",
        "\n",
        "            recursive_bisection(left_indices, level + 1)\n",
        "            recursive_bisection(right_indices, level + 1)\n",
        "\n",
        "        initial_indices = list(range(len(sorted_assets)))\n",
        "        recursive_bisection(initial_indices)\n",
        "\n",
        "        return weights\n",
        "\n",
        "    def get_portfolio(self, n_stocks=5):\n",
        "        base_portfolio = super().get_portfolio(n_stocks)\n",
        "\n",
        "        long_tickers = base_portfolio['long']['Ticker'].tolist()\n",
        "        returns = self.get_stock_returns(long_tickers)\n",
        "\n",
        "        if not returns.empty:\n",
        "            hrp_weights = self.optimize_portfolio(returns)\n",
        "            hrp_weights = hrp_weights / hrp_weights.sum()\n",
        "            base_portfolio['long']['HRP_Weight'] = base_portfolio['long']['Ticker'].map(hrp_weights)\n",
        "        else:\n",
        "            base_portfolio['long']['HRP_Weight'] = 1.0 / len(long_tickers)\n",
        "\n",
        "        return base_portfolio\n",
        "\n",
        "# Usage\n",
        "model = CombinedModelHRP()\n",
        "portfolio = model.get_portfolio()\n",
        "print(\"\\nLong Portfolio (High Quality + Momentum) with HRP Weights:\")\n",
        "print(portfolio['long'])\n",
        "print(\"\\nShort Portfolio (Low Quality + Momentum):\")\n",
        "print(portfolio['short'])\n",
        "print(\"\\nSpread:\", portfolio['spread'])"
      ],
      "metadata": {
        "colab": {
          "base_uri": "https://localhost:8080/"
        },
        "id": "qlGJtMYoyEs3",
        "outputId": "60c99e7e-477d-4f22-c0c5-292117fbcf7e"
      },
      "execution_count": 5,
      "outputs": [
        {
          "output_type": "stream",
          "name": "stdout",
          "text": []
        },
        {
          "output_type": "stream",
          "name": "stderr",
          "text": [
            "ERROR:yfinance:NBIS: Period '6mo' is invalid, must be one of ['1d', '5d', '1mo', '3mo', 'ytd', 'max']\n",
            "ERROR:yfinance:TTAN: Period '6mo' is invalid, must be one of ['1d', '5d', '1mo', 'ytd', 'max']\n",
            "ERROR:yfinance:NBIS: Period '1y' is invalid, must be one of ['1d', '5d', '1mo', '3mo', 'ytd', 'max']\n"
          ]
        },
        {
          "output_type": "stream",
          "name": "stdout",
          "text": [
            "Error getting data for NBIS: single positional indexer is out-of-bounds\n"
          ]
        },
        {
          "output_type": "stream",
          "name": "stderr",
          "text": [
            "ERROR:yfinance:OS: Period '1y' is invalid, must be one of ['1d', '5d', '1mo', '3mo', '6mo', 'ytd', 'max']\n"
          ]
        },
        {
          "output_type": "stream",
          "name": "stdout",
          "text": [
            "Error getting data for OS: single positional indexer is out-of-bounds\n"
          ]
        },
        {
          "output_type": "stream",
          "name": "stderr",
          "text": [
            "ERROR:yfinance:TTAN: Period '1y' is invalid, must be one of ['1d', '5d', '1mo', 'ytd', 'max']\n"
          ]
        },
        {
          "output_type": "stream",
          "name": "stdout",
          "text": [
            "Error getting data for TTAN: single positional indexer is out-of-bounds\n"
          ]
        },
        {
          "output_type": "stream",
          "name": "stderr",
          "text": [
            "ERROR:yfinance:$ONB: possibly delisted; no price data found  (period=6mo)\n",
            "ERROR:yfinance:429 Client Error: Too Many Requests for url: https://query2.finance.yahoo.com/v10/finance/quoteSummary/OZK?modules=financialData%2CquoteType%2CdefaultKeyStatistics%2CassetProfile%2CsummaryDetail&corsDomain=finance.yahoo.com&formatted=false&symbol=OZK&crumb=2FB6Ho5bejq\n",
            "ERROR:yfinance:$OZK: possibly delisted; no price data found  (period=1y)\n"
          ]
        },
        {
          "output_type": "stream",
          "name": "stdout",
          "text": [
            "Error getting data for OZK: single positional indexer is out-of-bounds\n"
          ]
        },
        {
          "output_type": "stream",
          "name": "stderr",
          "text": [
            "ERROR:yfinance:429 Client Error: Too Many Requests for url: https://query2.finance.yahoo.com/v10/finance/quoteSummary/PFG?modules=financialData%2CquoteType%2CdefaultKeyStatistics%2CassetProfile%2CsummaryDetail&corsDomain=finance.yahoo.com&formatted=false&symbol=PFG&crumb=2FB6Ho5bejq\n",
            "ERROR:yfinance:$PFG: possibly delisted; no price data found  (period=1y)\n"
          ]
        },
        {
          "output_type": "stream",
          "name": "stdout",
          "text": [
            "Error getting data for PFG: single positional indexer is out-of-bounds\n"
          ]
        },
        {
          "output_type": "stream",
          "name": "stderr",
          "text": [
            "ERROR:yfinance:429 Client Error: Too Many Requests for url: https://query2.finance.yahoo.com/v10/finance/quoteSummary/PPBI?modules=financialData%2CquoteType%2CdefaultKeyStatistics%2CassetProfile%2CsummaryDetail&corsDomain=finance.yahoo.com&formatted=false&symbol=PPBI&crumb=2FB6Ho5bejq\n",
            "ERROR:yfinance:$PPBI: possibly delisted; no price data found  (period=1y)\n"
          ]
        },
        {
          "output_type": "stream",
          "name": "stdout",
          "text": [
            "Error getting data for PPBI: single positional indexer is out-of-bounds\n"
          ]
        },
        {
          "output_type": "stream",
          "name": "stderr",
          "text": [
            "ERROR:yfinance:429 Client Error: Too Many Requests for url: https://query2.finance.yahoo.com/v10/finance/quoteSummary/PWP?modules=financialData%2CquoteType%2CdefaultKeyStatistics%2CassetProfile%2CsummaryDetail&corsDomain=finance.yahoo.com&formatted=false&symbol=PWP&crumb=2FB6Ho5bejq\n",
            "ERROR:yfinance:$PWP: possibly delisted; no price data found  (period=1y)\n"
          ]
        },
        {
          "output_type": "stream",
          "name": "stdout",
          "text": [
            "Error getting data for PWP: single positional indexer is out-of-bounds\n"
          ]
        },
        {
          "output_type": "stream",
          "name": "stderr",
          "text": [
            "ERROR:yfinance:429 Client Error: Too Many Requests for url: https://query2.finance.yahoo.com/v10/finance/quoteSummary/PYPL?modules=financialData%2CquoteType%2CdefaultKeyStatistics%2CassetProfile%2CsummaryDetail&corsDomain=finance.yahoo.com&formatted=false&symbol=PYPL&crumb=2FB6Ho5bejq\n",
            "ERROR:yfinance:$PYPL: possibly delisted; no price data found  (period=1y)\n"
          ]
        },
        {
          "output_type": "stream",
          "name": "stdout",
          "text": [
            "Error getting data for PYPL: single positional indexer is out-of-bounds\n"
          ]
        },
        {
          "output_type": "stream",
          "name": "stderr",
          "text": [
            "ERROR:yfinance:429 Client Error: Too Many Requests for url: https://query2.finance.yahoo.com/v10/finance/quoteSummary/QFIN?modules=financialData%2CquoteType%2CdefaultKeyStatistics%2CassetProfile%2CsummaryDetail&corsDomain=finance.yahoo.com&formatted=false&symbol=QFIN&crumb=2FB6Ho5bejq\n",
            "ERROR:yfinance:$QFIN: possibly delisted; no price data found  (period=1y)\n"
          ]
        },
        {
          "output_type": "stream",
          "name": "stdout",
          "text": [
            "Error getting data for QFIN: single positional indexer is out-of-bounds\n"
          ]
        },
        {
          "output_type": "stream",
          "name": "stderr",
          "text": [
            "ERROR:yfinance:429 Client Error: Too Many Requests for url: https://query2.finance.yahoo.com/v10/finance/quoteSummary/RIOT?modules=financialData%2CquoteType%2CdefaultKeyStatistics%2CassetProfile%2CsummaryDetail&corsDomain=finance.yahoo.com&formatted=false&symbol=RIOT&crumb=2FB6Ho5bejq\n",
            "ERROR:yfinance:$RIOT: possibly delisted; no price data found  (period=1y)\n"
          ]
        },
        {
          "output_type": "stream",
          "name": "stdout",
          "text": [
            "Error getting data for RIOT: single positional indexer is out-of-bounds\n"
          ]
        },
        {
          "output_type": "stream",
          "name": "stderr",
          "text": [
            "ERROR:yfinance:429 Client Error: Too Many Requests for url: https://query2.finance.yahoo.com/v10/finance/quoteSummary/SEIC?modules=financialData%2CquoteType%2CdefaultKeyStatistics%2CassetProfile%2CsummaryDetail&corsDomain=finance.yahoo.com&formatted=false&symbol=SEIC&crumb=2FB6Ho5bejq\n",
            "ERROR:yfinance:$SEIC: possibly delisted; no price data found  (period=1y)\n"
          ]
        },
        {
          "output_type": "stream",
          "name": "stdout",
          "text": [
            "Error getting data for SEIC: single positional indexer is out-of-bounds\n"
          ]
        },
        {
          "output_type": "stream",
          "name": "stderr",
          "text": [
            "ERROR:yfinance:429 Client Error: Too Many Requests for url: https://query2.finance.yahoo.com/v10/finance/quoteSummary/SFNC?modules=financialData%2CquoteType%2CdefaultKeyStatistics%2CassetProfile%2CsummaryDetail&corsDomain=finance.yahoo.com&formatted=false&symbol=SFNC&crumb=2FB6Ho5bejq\n",
            "ERROR:yfinance:$SFNC: possibly delisted; no price data found  (period=1y)\n"
          ]
        },
        {
          "output_type": "stream",
          "name": "stdout",
          "text": [
            "Error getting data for SFNC: single positional indexer is out-of-bounds\n"
          ]
        },
        {
          "output_type": "stream",
          "name": "stderr",
          "text": [
            "ERROR:yfinance:429 Client Error: Too Many Requests for url: https://query2.finance.yahoo.com/v10/finance/quoteSummary/SLM?modules=financialData%2CquoteType%2CdefaultKeyStatistics%2CassetProfile%2CsummaryDetail&corsDomain=finance.yahoo.com&formatted=false&symbol=SLM&crumb=2FB6Ho5bejq\n",
            "ERROR:yfinance:$SLM: possibly delisted; no price data found  (period=1y)\n"
          ]
        },
        {
          "output_type": "stream",
          "name": "stdout",
          "text": [
            "Error getting data for SLM: single positional indexer is out-of-bounds\n"
          ]
        },
        {
          "output_type": "stream",
          "name": "stderr",
          "text": [
            "ERROR:yfinance:429 Client Error: Too Many Requests for url: https://query2.finance.yahoo.com/v10/finance/quoteSummary/SOFI?modules=financialData%2CquoteType%2CdefaultKeyStatistics%2CassetProfile%2CsummaryDetail&corsDomain=finance.yahoo.com&formatted=false&symbol=SOFI&crumb=2FB6Ho5bejq\n",
            "ERROR:yfinance:$SOFI: possibly delisted; no price data found  (period=1y)\n"
          ]
        },
        {
          "output_type": "stream",
          "name": "stdout",
          "text": [
            "Error getting data for SOFI: single positional indexer is out-of-bounds\n"
          ]
        },
        {
          "output_type": "stream",
          "name": "stderr",
          "text": [
            "ERROR:yfinance:429 Client Error: Too Many Requests for url: https://query2.finance.yahoo.com/v10/finance/quoteSummary/STEP?modules=financialData%2CquoteType%2CdefaultKeyStatistics%2CassetProfile%2CsummaryDetail&corsDomain=finance.yahoo.com&formatted=false&symbol=STEP&crumb=2FB6Ho5bejq\n",
            "ERROR:yfinance:$STEP: possibly delisted; no price data found  (period=1y)\n"
          ]
        },
        {
          "output_type": "stream",
          "name": "stdout",
          "text": [
            "Error getting data for STEP: single positional indexer is out-of-bounds\n"
          ]
        },
        {
          "output_type": "stream",
          "name": "stderr",
          "text": [
            "ERROR:yfinance:429 Client Error: Too Many Requests for url: https://query2.finance.yahoo.com/v10/finance/quoteSummary/TBBK?modules=financialData%2CquoteType%2CdefaultKeyStatistics%2CassetProfile%2CsummaryDetail&corsDomain=finance.yahoo.com&formatted=false&symbol=TBBK&crumb=2FB6Ho5bejq\n",
            "ERROR:yfinance:$TBBK: possibly delisted; no price data found  (period=1y)\n"
          ]
        },
        {
          "output_type": "stream",
          "name": "stdout",
          "text": [
            "Error getting data for TBBK: single positional indexer is out-of-bounds\n",
            "Error getting data for TPG: HTTPSConnectionPool(host='query2.finance.yahoo.com', port=443): Read timed out. (read timeout=30)\n"
          ]
        },
        {
          "output_type": "stream",
          "name": "stderr",
          "text": [
            "ERROR:yfinance:429 Client Error: Too Many Requests for url: https://query2.finance.yahoo.com/v10/finance/quoteSummary/TROW?modules=financialData%2CquoteType%2CdefaultKeyStatistics%2CassetProfile%2CsummaryDetail&corsDomain=finance.yahoo.com&formatted=false&symbol=TROW&crumb=2FB6Ho5bejq\n",
            "ERROR:yfinance:$TROW: possibly delisted; no price data found  (period=1y)\n"
          ]
        },
        {
          "output_type": "stream",
          "name": "stdout",
          "text": [
            "Error getting data for TROW: single positional indexer is out-of-bounds\n"
          ]
        },
        {
          "output_type": "stream",
          "name": "stderr",
          "text": [
            "ERROR:yfinance:429 Client Error: Too Many Requests for url: https://query2.finance.yahoo.com/v10/finance/quoteSummary/TW?modules=financialData%2CquoteType%2CdefaultKeyStatistics%2CassetProfile%2CsummaryDetail&corsDomain=finance.yahoo.com&formatted=false&symbol=TW&crumb=2FB6Ho5bejq\n",
            "ERROR:yfinance:$TW: possibly delisted; no price data found  (period=1y)\n"
          ]
        },
        {
          "output_type": "stream",
          "name": "stdout",
          "text": [
            "Error getting data for TW: single positional indexer is out-of-bounds\n"
          ]
        },
        {
          "output_type": "stream",
          "name": "stderr",
          "text": [
            "ERROR:yfinance:429 Client Error: Too Many Requests for url: https://query2.finance.yahoo.com/v10/finance/quoteSummary/UBSI?modules=financialData%2CquoteType%2CdefaultKeyStatistics%2CassetProfile%2CsummaryDetail&corsDomain=finance.yahoo.com&formatted=false&symbol=UBSI&crumb=2FB6Ho5bejq\n",
            "ERROR:yfinance:$UBSI: possibly delisted; no price data found  (period=1y)\n"
          ]
        },
        {
          "output_type": "stream",
          "name": "stdout",
          "text": [
            "Error getting data for UBSI: single positional indexer is out-of-bounds\n"
          ]
        },
        {
          "output_type": "stream",
          "name": "stderr",
          "text": [
            "ERROR:yfinance:429 Client Error: Too Many Requests for url: https://query2.finance.yahoo.com/v10/finance/quoteSummary/UPST?modules=financialData%2CquoteType%2CdefaultKeyStatistics%2CassetProfile%2CsummaryDetail&corsDomain=finance.yahoo.com&formatted=false&symbol=UPST&crumb=2FB6Ho5bejq\n",
            "ERROR:yfinance:$UPST: possibly delisted; no price data found  (period=1y)\n"
          ]
        },
        {
          "output_type": "stream",
          "name": "stdout",
          "text": [
            "Error getting data for UPST: single positional indexer is out-of-bounds\n"
          ]
        },
        {
          "output_type": "stream",
          "name": "stderr",
          "text": [
            "ERROR:yfinance:429 Client Error: Too Many Requests for url: https://query2.finance.yahoo.com/v10/finance/quoteSummary/VIRT?modules=financialData%2CquoteType%2CdefaultKeyStatistics%2CassetProfile%2CsummaryDetail&corsDomain=finance.yahoo.com&formatted=false&symbol=VIRT&crumb=2FB6Ho5bejq\n",
            "ERROR:yfinance:$VIRT: possibly delisted; no price data found  (period=1y)\n"
          ]
        },
        {
          "output_type": "stream",
          "name": "stdout",
          "text": [
            "Error getting data for VIRT: single positional indexer is out-of-bounds\n"
          ]
        },
        {
          "output_type": "stream",
          "name": "stderr",
          "text": [
            "ERROR:yfinance:429 Client Error: Too Many Requests for url: https://query2.finance.yahoo.com/v10/finance/quoteSummary/WTW?modules=financialData%2CquoteType%2CdefaultKeyStatistics%2CassetProfile%2CsummaryDetail&corsDomain=finance.yahoo.com&formatted=false&symbol=WTW&crumb=2FB6Ho5bejq\n",
            "ERROR:yfinance:$WTW: possibly delisted; no price data found  (period=1y)\n"
          ]
        },
        {
          "output_type": "stream",
          "name": "stdout",
          "text": [
            "Error getting data for WTW: single positional indexer is out-of-bounds\n"
          ]
        },
        {
          "output_type": "stream",
          "name": "stderr",
          "text": [
            "ERROR:yfinance:429 Client Error: Too Many Requests for url: https://query2.finance.yahoo.com/v10/finance/quoteSummary/XP?modules=financialData%2CquoteType%2CdefaultKeyStatistics%2CassetProfile%2CsummaryDetail&corsDomain=finance.yahoo.com&formatted=false&symbol=XP&crumb=2FB6Ho5bejq\n",
            "ERROR:yfinance:$XP: possibly delisted; no price data found  (period=1y)\n"
          ]
        },
        {
          "output_type": "stream",
          "name": "stdout",
          "text": [
            "Error getting data for XP: single positional indexer is out-of-bounds\n"
          ]
        },
        {
          "output_type": "stream",
          "name": "stderr",
          "text": [
            "ERROR:yfinance:429 Client Error: Too Many Requests for url: https://query2.finance.yahoo.com/v10/finance/quoteSummary/ZION?modules=financialData%2CquoteType%2CdefaultKeyStatistics%2CassetProfile%2CsummaryDetail&corsDomain=finance.yahoo.com&formatted=false&symbol=ZION&crumb=2FB6Ho5bejq\n",
            "ERROR:yfinance:$ZION: possibly delisted; no price data found  (period=1y)\n"
          ]
        },
        {
          "output_type": "stream",
          "name": "stdout",
          "text": [
            "Error getting data for ZION: single positional indexer is out-of-bounds\n"
          ]
        },
        {
          "output_type": "stream",
          "name": "stderr",
          "text": [
            "/usr/local/lib/python3.10/dist-packages/finvizfinance/screener/base.py:134: FutureWarning: The behavior of DataFrame concatenation with empty or all-NA entries is deprecated. In a future version, this will no longer exclude empty or all-NA columns when determining the result dtypes. To retain the old behavior, exclude the relevant entries before the concat operation.\n",
            "  return pd.concat([df, pd.DataFrame(frame)], ignore_index=True)\n"
          ]
        },
        {
          "output_type": "stream",
          "name": "stdout",
          "text": [
            "\n",
            "Long Portfolio (High Quality + Momentum) with HRP Weights:\n",
            "    Ticker                          Company      Sector  Combined_Score  \\\n",
            "172   SRRK        Scholar Rock Holding Corp  Healthcare        3.917468   \n",
            "0      APP                    Applovin Corp  Technology        2.996741   \n",
            "140   GGAL     Grupo Financiero Galicia ADR   Financial        2.682144   \n",
            "1       KC  Kingsoft Cloud Holdings Ltd ADR  Technology        2.665849   \n",
            "173    WGS             GeneDx Holdings Corp  Healthcare        2.020108   \n",
            "\n",
            "     Quality_Score  XSMOM_Score  HRP_Weight  \n",
            "172       0.787948     7.046987    0.012025  \n",
            "0         0.947231     5.046251    0.205837  \n",
            "140       1.377782     3.986507    0.569322  \n",
            "1         0.551636     4.780063    0.110105  \n",
            "173       0.947473     3.092743    0.102710  \n",
            "\n",
            "Short Portfolio (Low Quality + Momentum):\n",
            "    Ticker               Company              Sector  Combined_Score  \\\n",
            "298   CELH  Celsius Holdings Inc  Consumer Defensive       -1.086932   \n",
            "138    RUN            Sunrun Inc          Technology       -1.163932   \n",
            "171   CLSK        Cleanspark Inc           Financial       -1.263003   \n",
            "299   DLTR       Dollar Tree Inc  Consumer Defensive       -1.314421   \n",
            "139   INTU            Intuit Inc          Technology             NaN   \n",
            "\n",
            "     Quality_Score  XSMOM_Score  \n",
            "298      -0.246646    -1.927218  \n",
            "138      -1.329478    -0.998385  \n",
            "171      -0.896604    -1.629402  \n",
            "299      -1.456838    -1.172004  \n",
            "139       0.259501          NaN  \n",
            "\n",
            "Spread: 4.0635340842694845\n"
          ]
        },
        {
          "output_type": "stream",
          "name": "stderr",
          "text": [
            "<ipython-input-5-e4c238cac011>:208: FutureWarning: Setting an item of incompatible dtype is deprecated and will raise an error in a future version of pandas. Value '0.5813469813484817' has dtype incompatible with int64, please explicitly cast to a compatible dtype first.\n",
            "  weights[sorted_assets[idx]] *= alpha\n"
          ]
        }
      ]
    },
    {
      "cell_type": "markdown",
      "source": [
        "**QMJ + XSMOM + HRP + Turnover + Riesgos + Correlaciones**"
      ],
      "metadata": {
        "id": "JYw1sBpc2Xrm"
      }
    },
    {
      "cell_type": "code",
      "source": [
        "from finvizfinance.screener.overview import Overview\n",
        "import yfinance as yf\n",
        "import pandas as pd\n",
        "import numpy as np\n",
        "import scipy.cluster.hierarchy as sch\n",
        "from scipy.spatial.distance import squareform\n",
        "import time\n",
        "\n",
        "class CombinedModel:\n",
        "    def __init__(self):\n",
        "        self.screener = Overview()\n",
        "        self._previous_weights = None\n",
        "\n",
        "    def get_sector_data(self, sector):\n",
        "        filters_dict = {\n",
        "            'Exchange': 'NASDAQ',\n",
        "            'Market Cap.': '+Mid (over $2bln)',\n",
        "            'Average Volume': 'Over 500K',\n",
        "            'Price': 'Over $10',\n",
        "            'Sector': sector\n",
        "        }\n",
        "        self.screener.set_filter(filters_dict=filters_dict)\n",
        "        return self.screener.screener_view()\n",
        "\n",
        "    def calculate_xsmom(self, ticker, universe_returns):\n",
        "        stock = yf.Ticker(ticker)\n",
        "        hist = stock.history(period=\"6mo\")\n",
        "        if hist.empty:\n",
        "            return 0\n",
        "\n",
        "        stock_return = ((hist['Close'].iloc[-1] / hist['Close'].iloc[0]) - 1) * 100\n",
        "        mean_return = universe_returns['Returns'].mean()\n",
        "        std_return = universe_returns['Returns'].std()\n",
        "\n",
        "        return (stock_return - mean_return) / std_return\n",
        "\n",
        "    def sector_momentum_score(self, sector_returns):\n",
        "        return (sector_returns - sector_returns.mean()) / sector_returns.std()\n",
        "\n",
        "    def get_stock_fundamentals(self, ticker):\n",
        "        try:\n",
        "            stock = yf.Ticker(ticker)\n",
        "            info = stock.info\n",
        "            hist = stock.history(period=\"1y\")\n",
        "\n",
        "            returns = hist['Close'].pct_change()\n",
        "            growth_rate = ((hist['Close'].iloc[-1] / hist['Close'].iloc[0]) - 1) * 100\n",
        "            volatility = returns.std() * np.sqrt(252)\n",
        "\n",
        "            return {\n",
        "                'Ticker': ticker,\n",
        "                'ROE': info.get('returnOnEquity', 0),\n",
        "                'ROA': info.get('returnOnAssets', 0),\n",
        "                'OperatingMargin': info.get('operatingMargins', 0),\n",
        "                'Beta': info.get('beta', 1),\n",
        "                'DebtToEquity': info.get('debtToEquity', 0),\n",
        "                'GrowthRate': growth_rate,\n",
        "                'Volatility': volatility\n",
        "            }\n",
        "        except Exception as e:\n",
        "            print(f\"Error getting data for {ticker}: {str(e)}\")\n",
        "            return None\n",
        "\n",
        "    def analyze_sector(self, sector):\n",
        "        df = self.get_sector_data(sector)\n",
        "        if df.empty:\n",
        "            return pd.DataFrame()\n",
        "\n",
        "        universe_returns = []\n",
        "        for ticker in df['Ticker']:\n",
        "            try:\n",
        "                stock = yf.Ticker(ticker)\n",
        "                hist = stock.history(period=\"6mo\")\n",
        "                if not hist.empty:\n",
        "                    returns = ((hist['Close'].iloc[-1] / hist['Close'].iloc[0]) - 1) * 100\n",
        "                    universe_returns.append({\n",
        "                        'Ticker': ticker,\n",
        "                        'Returns': returns\n",
        "                    })\n",
        "                time.sleep(0.1)\n",
        "            except:\n",
        "                continue\n",
        "\n",
        "        universe_returns_df = pd.DataFrame(universe_returns)\n",
        "\n",
        "        detailed_data = []\n",
        "        for ticker in df['Ticker']:\n",
        "            data = self.get_stock_fundamentals(ticker)\n",
        "            if data:\n",
        "                xsmom = self.calculate_xsmom(ticker, universe_returns_df)\n",
        "                data['XSMOM_Score'] = xsmom\n",
        "                detailed_data.append(data)\n",
        "\n",
        "        if not detailed_data:\n",
        "            return pd.DataFrame()\n",
        "\n",
        "        detailed_df = pd.DataFrame(detailed_data)\n",
        "        df = df.merge(detailed_df, on='Ticker', how='inner')\n",
        "\n",
        "        for col in ['ROE', 'ROA', 'OperatingMargin', 'Beta', 'DebtToEquity', 'GrowthRate', 'Volatility']:\n",
        "            df[col] = df[col].clip(lower=df[col].quantile(0.05), upper=df[col].quantile(0.95))\n",
        "\n",
        "        profitability = df[['ROE', 'ROA', 'OperatingMargin']].mean(axis=1)\n",
        "        growth = df['GrowthRate']\n",
        "        safety = -(df[['Beta', 'DebtToEquity', 'Volatility']].mean(axis=1))\n",
        "\n",
        "        df['Profitability_Score'] = (profitability - profitability.mean()) / profitability.std()\n",
        "        df['Growth_Score'] = (growth - growth.mean()) / growth.std()\n",
        "        df['Safety_Score'] = (safety - safety.mean()) / safety.std()\n",
        "\n",
        "        df['Quality_Score'] = (df['Profitability_Score'] + df['Growth_Score'] + df['Safety_Score']) / 3\n",
        "        df['Combined_Score'] = (df['Quality_Score'] + df['XSMOM_Score']) / 2\n",
        "\n",
        "        return df.sort_values('Combined_Score', ascending=False)\n",
        "\n",
        "    def get_portfolio(self, n_stocks=5):\n",
        "        sectors = ['Technology', 'Financial', 'Healthcare', 'Consumer Defensive']\n",
        "        all_data = []\n",
        "\n",
        "        for sector in sectors:\n",
        "            sector_data = self.analyze_sector(sector)\n",
        "            if not sector_data.empty:\n",
        "                all_data.append(sector_data)\n",
        "\n",
        "        if not all_data:\n",
        "            raise ValueError(\"No data available for analysis\")\n",
        "\n",
        "        df = pd.concat(all_data, ignore_index=True)\n",
        "        df = df.sort_values('Combined_Score', ascending=False)\n",
        "\n",
        "        high_quality = df.head(n_stocks)\n",
        "        low_quality = df.tail(n_stocks)\n",
        "\n",
        "        if self._previous_weights is None:\n",
        "            self._previous_weights = pd.Series(1.0/n_stocks, index=high_quality['Ticker'])\n",
        "\n",
        "        return {\n",
        "            'long': high_quality[['Ticker', 'Company', 'Sector', 'Combined_Score', 'Quality_Score', 'XSMOM_Score']],\n",
        "            'short': low_quality[['Ticker', 'Company', 'Sector', 'Combined_Score', 'Quality_Score', 'XSMOM_Score']],\n",
        "            'spread': high_quality['Combined_Score'].mean() - low_quality['Combined_Score'].mean()\n",
        "        }\n",
        "\n",
        "    def analyze_factor_correlation(self):\n",
        "        factors = ['Quality_Score', 'XSMOM_Score', 'Sector_Momentum']\n",
        "        return pd.DataFrame([self.quality_scores, self.momentum_scores, self.sector_scores],\n",
        "                          index=factors).corr()\n",
        "\n",
        "    def calculate_portfolio_costs(self, old_weights, new_weights, transaction_cost=2.0):\n",
        "        weight_changes = abs(new_weights - old_weights)\n",
        "        turnover = weight_changes.sum() / 2\n",
        "        num_trades = len(weight_changes[weight_changes > 0.0001])\n",
        "        total_costs = num_trades * transaction_cost\n",
        "        portfolio_value = 100000\n",
        "        costs_impact_bps = (total_costs / portfolio_value) * 10000\n",
        "\n",
        "        return {\n",
        "            'turnover_ratio': turnover,\n",
        "            'number_of_trades': num_trades,\n",
        "            'total_costs_usd': total_costs,\n",
        "            'costs_impact_bps': costs_impact_bps\n",
        "        }\n",
        "\n",
        "    def calculate_risk_metrics(self, returns, confidence_level=0.95):\n",
        "        if self._previous_weights is None:\n",
        "            return None\n",
        "\n",
        "        portfolio_returns = returns.dot(self._previous_weights)\n",
        "        var = -np.percentile(portfolio_returns, (1 - confidence_level) * 100)\n",
        "        cvar = -portfolio_returns[portfolio_returns <= -var].mean()\n",
        "\n",
        "        var_limit = 0.02\n",
        "        cvar_limit = 0.03\n",
        "\n",
        "        alerts = []\n",
        "        if var > var_limit:\n",
        "            alerts.append({\n",
        "                'level': 'WARNING',\n",
        "                'message': f'VaR ({var:.2%}) exceeds limit of {var_limit:.2%}',\n",
        "                'suggestion': 'Consider reducing position sizes or adding defensive stocks'\n",
        "            })\n",
        "\n",
        "        if cvar > cvar_limit:\n",
        "            alerts.append({\n",
        "                'level': 'CRITICAL',\n",
        "                'message': f'CVaR ({cvar:.2%}) exceeds limit of {cvar_limit:.2%}',\n",
        "                'suggestion': 'Immediate portfolio rebalancing recommended. Consider hedging positions'\n",
        "            })\n",
        "\n",
        "        marginal_var = {}\n",
        "        for ticker in returns.columns:\n",
        "            position_returns = returns[ticker]\n",
        "            contribution = position_returns[portfolio_returns <= -var].mean() * self._previous_weights[ticker]\n",
        "            marginal_var[ticker] = contribution\n",
        "\n",
        "        return {\n",
        "            'VaR': var,\n",
        "            'CVaR': cvar,\n",
        "            'risk_alerts': alerts,\n",
        "            'risk_contributions': marginal_var\n",
        "        }\n",
        "\n",
        "class CombinedModelHRP(CombinedModel):\n",
        "    def get_stock_returns(self, tickers, period='1y'):\n",
        "        returns_data = {}\n",
        "        for ticker in tickers:\n",
        "            try:\n",
        "                stock = yf.Ticker(ticker)\n",
        "                hist = stock.history(period=period)\n",
        "                if not hist.empty:\n",
        "                    returns = hist['Close'].pct_change().dropna()\n",
        "                    returns_data[ticker] = returns\n",
        "                time.sleep(0.1)\n",
        "            except Exception as e:\n",
        "                print(f\"Error getting returns for {ticker}: {str(e)}\")\n",
        "        return pd.DataFrame(returns_data)\n",
        "\n",
        "    def get_quasi_diag(self, link):\n",
        "        num_items = link[-1, 3]\n",
        "        cursors = [link[-1, 0], link[-1, 1]]\n",
        "        sorted_items = []\n",
        "\n",
        "        while len(sorted_items) < num_items:\n",
        "            for cursor in cursors:\n",
        "                if cursor < num_items:\n",
        "                    sorted_items.append(int(cursor))\n",
        "                    cursors.remove(cursor)\n",
        "                else:\n",
        "                    i = int(cursor - num_items)\n",
        "                    cursors.remove(cursor)\n",
        "                    cursors.extend([link[i, 0], link[i, 1]])\n",
        "\n",
        "        return sorted_items\n",
        "\n",
        "    def get_cluster_var(self, cov, cluster_indices):\n",
        "        cluster_cov = cov.iloc[cluster_indices, cluster_indices]\n",
        "        inv_diag = 1 / np.diag(cluster_cov)\n",
        "        weights = inv_diag / inv_diag.sum()\n",
        "        cluster_var = np.dot(np.dot(weights, cluster_cov), weights)\n",
        "        return cluster_var, weights\n",
        "\n",
        "    def optimize_portfolio(self, returns):\n",
        "        if returns.empty:\n",
        "            return pd.Series()\n",
        "\n",
        "        corr = returns.corr()\n",
        "        dist = np.sqrt(0.5 * (1 - corr))\n",
        "\n",
        "        condensed_dist = squareform(dist)\n",
        "        link = sch.linkage(condensed_dist, method='single')\n",
        "\n",
        "        sorted_indices = self.get_quasi_diag(link)\n",
        "        sorted_assets = returns.columns[sorted_indices].tolist()\n",
        "\n",
        "        cov = returns[sorted_assets].cov()\n",
        "        weights = pd.Series(1, index=sorted_assets)\n",
        "\n",
        "        def recursive_bisection(indices, level=0):\n",
        "            if len(indices) <= 1:\n",
        "                return\n",
        "\n",
        "            mid = len(indices) // 2\n",
        "            left_indices = indices[:mid]\n",
        "            right_indices = indices[mid:]\n",
        "\n",
        "            left_var, left_weights = self.get_cluster_var(cov, left_indices)\n",
        "            right_var, right_weights = self.get_cluster_var(cov, right_indices)\n",
        "\n",
        "            alpha = 1 - (left_var / (left_var + right_var))\n",
        "\n",
        "            for idx in left_indices:\n",
        "                weights[sorted_assets[idx]] *= alpha\n",
        "            for idx in right_indices:\n",
        "                weights[sorted_assets[idx]] *= (1 - alpha)\n",
        "\n",
        "            recursive_bisection(left_indices, level + 1)\n",
        "            recursive_bisection(right_indices, level + 1)\n",
        "\n",
        "        initial_indices = list(range(len(sorted_assets)))\n",
        "        recursive_bisection(initial_indices)\n",
        "\n",
        "        return weights\n",
        "\n",
        "    def get_portfolio(self, n_stocks=5):\n",
        "        base_portfolio = super().get_portfolio(n_stocks)\n",
        "\n",
        "        long_tickers = base_portfolio['long']['Ticker'].tolist()\n",
        "        returns = self.get_stock_returns(long_tickers)\n",
        "\n",
        "        if returns.empty:\n",
        "            base_portfolio['long']['HRP_Weight'] = 1.0 / len(long_tickers)\n",
        "        else:\n",
        "            hrp_weights = self.optimize_portfolio(returns)\n",
        "            hrp_weights = hrp_weights / hrp_weights.sum()\n",
        "            base_portfolio['long']['HRP_Weight'] = base_portfolio['long']['Ticker'].map(hrp_weights)\n",
        "\n",
        "            # Calculate portfolio costs\n",
        "            old_weights = getattr(self, '_previous_weights', pd.Series(index=base_portfolio['long']['Ticker'], data=0))\n",
        "            new_weights = base_portfolio['long']['HRP_Weight']\n",
        "            costs_analysis = self.calculate_portfolio_costs(old_weights, new_weights)\n",
        "            base_portfolio['costs_analysis'] = costs_analysis\n",
        "\n",
        "            # Calculate risk metrics\n",
        "            risk_metrics = self.calculate_risk_metrics(returns)\n",
        "            if risk_metrics:\n",
        "                base_portfolio['risk_analysis'] = risk_metrics\n",
        "\n",
        "                # Add risk-based suggestions\n",
        "                if risk_metrics['risk_alerts']:\n",
        "                    base_portfolio['risk_actions'] = [\n",
        "                        alert['suggestion'] for alert in risk_metrics['risk_alerts']\n",
        "                    ]\n",
        "\n",
        "                    risk_contrib = pd.Series(risk_metrics['risk_contributions'])\n",
        "                    high_risk_assets = risk_contrib[risk_contrib > risk_contrib.mean()]\n",
        "\n",
        "                    if not high_risk_assets.empty:\n",
        "                        base_portfolio['risk_actions'].append(\n",
        "                            f'Consider reducing exposure to: {\", \".join(high_risk_assets.index)}'\n",
        "                        )\n",
        "\n",
        "            # Store current weights for next rebalance\n",
        "            self._previous_weights = new_weights\n",
        "\n",
        "        return base_portfolio\n",
        "\n",
        "def main():\n",
        "    model = CombinedModelHRP()\n",
        "    portfolio = model.get_portfolio(n_stocks=5)\n",
        "\n",
        "    print(\"\\nLong Portfolio (High Quality + Momentum) with HRP Weights:\")\n",
        "    print(portfolio['long'])\n",
        "\n",
        "    if 'costs_analysis' in portfolio:\n",
        "        print(\"\\nPortfolio Costs Analysis:\")\n",
        "        print(portfolio['costs_analysis'])\n",
        "\n",
        "    if 'risk_analysis' in portfolio:\n",
        "        print(\"\\nRisk Analysis:\")\n",
        "        print(portfolio['risk_analysis'])\n",
        "\n",
        "    if 'risk_actions' in portfolio:\n",
        "        print(\"\\nRisk Management Suggestions:\")\n",
        "        for action in portfolio['risk_actions']:\n",
        "            print(f\"- {action}\")\n",
        "\n",
        "if __name__ == \"__main__\":\n",
        "    main()"
      ],
      "metadata": {
        "colab": {
          "base_uri": "https://localhost:8080/"
        },
        "id": "jKGwVIMa2RKv",
        "outputId": "3bb34b4b-f3ed-4b1d-daa5-870691176e4c"
      },
      "execution_count": 7,
      "outputs": [
        {
          "output_type": "stream",
          "name": "stdout",
          "text": []
        },
        {
          "output_type": "stream",
          "name": "stderr",
          "text": [
            "ERROR:yfinance:NBIS: Period '6mo' is invalid, must be one of ['1d', '5d', '1mo', '3mo', 'ytd', 'max']\n",
            "ERROR:yfinance:TTAN: Period '6mo' is invalid, must be one of ['1d', '5d', '1mo', 'ytd', 'max']\n",
            "ERROR:yfinance:NBIS: Period '1y' is invalid, must be one of ['1d', '5d', '1mo', '3mo', 'ytd', 'max']\n"
          ]
        },
        {
          "output_type": "stream",
          "name": "stdout",
          "text": [
            "Error getting data for NBIS: single positional indexer is out-of-bounds\n"
          ]
        },
        {
          "output_type": "stream",
          "name": "stderr",
          "text": [
            "ERROR:yfinance:OS: Period '1y' is invalid, must be one of ['1d', '5d', '1mo', '3mo', '6mo', 'ytd', 'max']\n"
          ]
        },
        {
          "output_type": "stream",
          "name": "stdout",
          "text": [
            "Error getting data for OS: single positional indexer is out-of-bounds\n"
          ]
        },
        {
          "output_type": "stream",
          "name": "stderr",
          "text": [
            "ERROR:yfinance:TTAN: Period '1y' is invalid, must be one of ['1d', '5d', '1mo', 'ytd', 'max']\n"
          ]
        },
        {
          "output_type": "stream",
          "name": "stdout",
          "text": [
            "Error getting data for TTAN: single positional indexer is out-of-bounds\n"
          ]
        },
        {
          "output_type": "stream",
          "name": "stderr",
          "text": [
            "/usr/local/lib/python3.10/dist-packages/finvizfinance/screener/base.py:134: FutureWarning: The behavior of DataFrame concatenation with empty or all-NA entries is deprecated. In a future version, this will no longer exclude empty or all-NA columns when determining the result dtypes. To retain the old behavior, exclude the relevant entries before the concat operation.\n",
            "  return pd.concat([df, pd.DataFrame(frame)], ignore_index=True)\n"
          ]
        },
        {
          "output_type": "stream",
          "name": "stdout",
          "text": [
            "\n",
            "Long Portfolio (High Quality + Momentum) with HRP Weights:\n",
            "    Ticker                          Company      Sector  Combined_Score  \\\n",
            "194   SRRK        Scholar Rock Holding Corp  Healthcare        3.917468   \n",
            "0      APP                    Applovin Corp  Technology        2.996741   \n",
            "1       KC  Kingsoft Cloud Holdings Ltd ADR  Technology        2.665849   \n",
            "140   GGAL     Grupo Financiero Galicia ADR   Financial        2.588490   \n",
            "195    WGS             GeneDx Holdings Corp  Healthcare        2.020108   \n",
            "\n",
            "     Quality_Score  XSMOM_Score  HRP_Weight  \n",
            "194       0.787948     7.046987    0.012025  \n",
            "0         0.947231     5.046251    0.205837  \n",
            "1         0.551636     4.780063    0.110105  \n",
            "140       1.190474     3.986507    0.569322  \n",
            "195       0.947473     3.092743    0.102710  \n",
            "\n",
            "Portfolio Costs Analysis:\n",
            "{'turnover_ratio': 0.0, 'number_of_trades': 0, 'total_costs_usd': 0.0, 'costs_impact_bps': 0.0}\n",
            "\n",
            "Risk Analysis:\n",
            "{'VaR': 0.03579485499499908, 'CVaR': 0.04435814184916582, 'risk_alerts': [{'level': 'WARNING', 'message': 'VaR (3.58%) exceeds limit of 2.00%', 'suggestion': 'Consider reducing position sizes or adding defensive stocks'}, {'level': 'CRITICAL', 'message': 'CVaR (4.44%) exceeds limit of 3.00%', 'suggestion': 'Immediate portfolio rebalancing recommended. Consider hedging positions'}], 'risk_contributions': {'SRRK': -0.009817728043326451, 'APP': -0.008761531304499097, 'KC': -0.010379639366769288, 'GGAL': -0.0039115880031198955, 'WGS': -0.011487655131451086}}\n",
            "\n",
            "Risk Management Suggestions:\n",
            "- Consider reducing position sizes or adding defensive stocks\n",
            "- Immediate portfolio rebalancing recommended. Consider hedging positions\n",
            "- Consider reducing exposure to: APP, GGAL\n"
          ]
        },
        {
          "output_type": "stream",
          "name": "stderr",
          "text": [
            "<ipython-input-7-e4b962f2e4a4>:271: FutureWarning: Setting an item of incompatible dtype is deprecated and will raise an error in a future version of pandas. Value '0.581346904715444' has dtype incompatible with int64, please explicitly cast to a compatible dtype first.\n",
            "  weights[sorted_assets[idx]] *= alpha\n"
          ]
        }
      ]
    },
    {
      "cell_type": "code",
      "source": [
        "from finvizfinance.screener.overview import Overview\n",
        "import yfinance as yf\n",
        "import pandas as pd\n",
        "import numpy as np\n",
        "import scipy.cluster.hierarchy as sch\n",
        "from scipy.spatial.distance import squareform\n",
        "import time\n",
        "\n",
        "class CombinedModel:\n",
        "    def __init__(self):\n",
        "        self.screener = Overview()\n",
        "        self._previous_weights = None\n",
        "        self.max_position = 0.35\n",
        "        self.min_position = 0.05\n",
        "        self.max_sector_exposure = 0.40\n",
        "\n",
        "    def get_sector_data(self, sector):\n",
        "        filters_dict = {\n",
        "            'Exchange': 'NASDAQ',\n",
        "            'Market Cap.': '+Mid (over $2bln)',\n",
        "            'Average Volume': 'Over 500K',\n",
        "            'Price': 'Over $10',\n",
        "            'Sector': sector\n",
        "        }\n",
        "        self.screener.set_filter(filters_dict=filters_dict)\n",
        "        return self.screener.screener_view()\n",
        "\n",
        "    def calculate_xsmom(self, ticker, universe_returns):\n",
        "        stock = yf.Ticker(ticker)\n",
        "        hist = stock.history(period=\"6mo\")\n",
        "        if hist.empty:\n",
        "            return 0\n",
        "\n",
        "        stock_return = ((hist['Close'].iloc[-1] / hist['Close'].iloc[0]) - 1) * 100\n",
        "        mean_return = universe_returns['Returns'].mean()\n",
        "        std_return = universe_returns['Returns'].std()\n",
        "\n",
        "        return (stock_return - mean_return) / std_return\n",
        "\n",
        "    def calculate_portfolio_costs(self, old_weights, new_weights, transaction_cost=2.0):\n",
        "        weight_changes = abs(new_weights - old_weights)\n",
        "        turnover = weight_changes.sum() / 2\n",
        "        num_trades = len(weight_changes[weight_changes > 0.0001])\n",
        "        total_costs = num_trades * transaction_cost\n",
        "        portfolio_value = 100000\n",
        "        costs_impact_bps = (total_costs / portfolio_value) * 10000\n",
        "\n",
        "        return {\n",
        "            'turnover_ratio': turnover,\n",
        "            'number_of_trades': num_trades,\n",
        "            'total_costs_usd': total_costs,\n",
        "            'costs_impact_bps': costs_impact_bps\n",
        "        }\n",
        "\n",
        "    def calculate_risk_metrics(self, returns, confidence_level=0.95):\n",
        "        if self._previous_weights is None:\n",
        "            return None\n",
        "\n",
        "        portfolio_returns = returns.dot(self._previous_weights)\n",
        "        var = -np.percentile(portfolio_returns, (1 - confidence_level) * 100)\n",
        "        cvar = -portfolio_returns[portfolio_returns <= -var].mean()\n",
        "\n",
        "        var_limit = 0.02\n",
        "        cvar_limit = 0.03\n",
        "\n",
        "        alerts = []\n",
        "        if var > var_limit:\n",
        "            alerts.append({\n",
        "                'level': 'WARNING',\n",
        "                'message': f'VaR ({var:.2%}) exceeds limit of {var_limit:.2%}',\n",
        "                'suggestion': 'Consider reducing position sizes or adding defensive stocks'\n",
        "            })\n",
        "\n",
        "        if cvar > cvar_limit:\n",
        "            alerts.append({\n",
        "                'level': 'CRITICAL',\n",
        "                'message': f'CVaR ({cvar:.2%}) exceeds limit of {cvar_limit:.2%}',\n",
        "                'suggestion': 'Immediate portfolio rebalancing recommended. Consider hedging positions'\n",
        "            })\n",
        "\n",
        "        marginal_var = {}\n",
        "        for ticker in returns.columns:\n",
        "            position_returns = returns[ticker]\n",
        "            contribution = position_returns[portfolio_returns <= -var].mean() * self._previous_weights[ticker]\n",
        "            marginal_var[ticker] = contribution\n",
        "\n",
        "        return {\n",
        "            'VaR': var,\n",
        "            'CVaR': cvar,\n",
        "            'risk_alerts': alerts,\n",
        "            'risk_contributions': marginal_var\n",
        "        }\n",
        "\n",
        "    def sector_momentum_score(self, sector_returns):\n",
        "        return (sector_returns - sector_returns.mean()) / sector_returns.std()\n",
        "\n",
        "    def get_stock_fundamentals(self, ticker):\n",
        "        try:\n",
        "            stock = yf.Ticker(ticker)\n",
        "            info = stock.info\n",
        "            hist = stock.history(period=\"1y\")\n",
        "\n",
        "            returns = hist['Close'].pct_change()\n",
        "            growth_rate = ((hist['Close'].iloc[-1] / hist['Close'].iloc[0]) - 1) * 100\n",
        "            volatility = returns.std() * np.sqrt(252)\n",
        "\n",
        "            return {\n",
        "                'Ticker': ticker,\n",
        "                'ROE': info.get('returnOnEquity', 0),\n",
        "                'ROA': info.get('returnOnAssets', 0),\n",
        "                'OperatingMargin': info.get('operatingMargins', 0),\n",
        "                'Beta': info.get('beta', 1),\n",
        "                'DebtToEquity': info.get('debtToEquity', 0),\n",
        "                'GrowthRate': growth_rate,\n",
        "                'Volatility': volatility\n",
        "            }\n",
        "        except Exception as e:\n",
        "            print(f\"Error getting data for {ticker}: {str(e)}\")\n",
        "            return None\n",
        "\n",
        "    def analyze_sector(self, sector):\n",
        "        df = self.get_sector_data(sector)\n",
        "        if df.empty:\n",
        "            return pd.DataFrame()\n",
        "\n",
        "        universe_returns = []\n",
        "        for ticker in df['Ticker']:\n",
        "            try:\n",
        "                stock = yf.Ticker(ticker)\n",
        "                hist = stock.history(period=\"6mo\")\n",
        "                if not hist.empty:\n",
        "                    returns = ((hist['Close'].iloc[-1] / hist['Close'].iloc[0]) - 1) * 100\n",
        "                    universe_returns.append({\n",
        "                        'Ticker': ticker,\n",
        "                        'Returns': returns\n",
        "                    })\n",
        "                time.sleep(0.1)\n",
        "            except:\n",
        "                continue\n",
        "\n",
        "        universe_returns_df = pd.DataFrame(universe_returns)\n",
        "\n",
        "        detailed_data = []\n",
        "        for ticker in df['Ticker']:\n",
        "            data = self.get_stock_fundamentals(ticker)\n",
        "            if data:\n",
        "                xsmom = self.calculate_xsmom(ticker, universe_returns_df)\n",
        "                data['XSMOM_Score'] = xsmom\n",
        "                detailed_data.append(data)\n",
        "\n",
        "        if not detailed_data:\n",
        "            return pd.DataFrame()\n",
        "\n",
        "        detailed_df = pd.DataFrame(detailed_data)\n",
        "        df = df.merge(detailed_df, on='Ticker', how='inner')\n",
        "\n",
        "        for col in ['ROE', 'ROA', 'OperatingMargin', 'Beta', 'DebtToEquity', 'GrowthRate', 'Volatility']:\n",
        "            df[col] = df[col].clip(lower=df[col].quantile(0.05), upper=df[col].quantile(0.95))\n",
        "\n",
        "        profitability = df[['ROE', 'ROA', 'OperatingMargin']].mean(axis=1)\n",
        "        growth = df['GrowthRate']\n",
        "        safety = -(df[['Beta', 'DebtToEquity', 'Volatility']].mean(axis=1))\n",
        "\n",
        "        df['Profitability_Score'] = (profitability - profitability.mean()) / profitability.std()\n",
        "        df['Growth_Score'] = (growth - growth.mean()) / growth.std()\n",
        "        df['Safety_Score'] = (safety - safety.mean()) / safety.std()\n",
        "\n",
        "        df['Quality_Score'] = (df['Profitability_Score'] + df['Growth_Score'] + df['Safety_Score']) / 3\n",
        "        df['Combined_Score'] = (df['Quality_Score'] + df['XSMOM_Score']) / 2\n",
        "\n",
        "        return df.sort_values('Combined_Score', ascending=False)\n",
        "\n",
        "    def constrain_weights(self, weights, sectors=None):\n",
        "        # Position limits\n",
        "        weights = weights.clip(lower=self.min_position, upper=self.max_position)\n",
        "\n",
        "        # Sector constraints if sectors provided\n",
        "        if sectors is not None:\n",
        "            sector_weights = weights.groupby(sectors).sum()\n",
        "            overweight_sectors = sector_weights[sector_weights > self.max_sector_exposure]\n",
        "\n",
        "            if not overweight_sectors.empty:\n",
        "                scale_factor = self.max_sector_exposure / overweight_sectors\n",
        "                for sector in overweight_sectors.index:\n",
        "                    sector_mask = sectors == sector\n",
        "                    weights[sector_mask] *= scale_factor[sector]\n",
        "\n",
        "        # Renormalize\n",
        "        return weights / weights.sum()\n",
        "\n",
        "    def get_portfolio(self, n_stocks=5):\n",
        "        sectors = ['Technology', 'Financial', 'Healthcare', 'Consumer Defensive']\n",
        "        all_data = []\n",
        "\n",
        "        for sector in sectors:\n",
        "            sector_data = self.analyze_sector(sector)\n",
        "            if not sector_data.empty:\n",
        "                all_data.append(sector_data)\n",
        "\n",
        "        if not all_data:\n",
        "            raise ValueError(\"No data available for analysis\")\n",
        "\n",
        "        df = pd.concat(all_data, ignore_index=True)\n",
        "        df = df.sort_values('Combined_Score', ascending=False)\n",
        "\n",
        "        high_quality = df.head(n_stocks)\n",
        "        low_quality = df.tail(n_stocks)\n",
        "\n",
        "        if self._previous_weights is None:\n",
        "            initial_weights = pd.Series(1.0/n_stocks, index=high_quality['Ticker'])\n",
        "            self._previous_weights = self.constrain_weights(initial_weights, high_quality['Sector'])\n",
        "\n",
        "        return {\n",
        "            'long': high_quality[['Ticker', 'Company', 'Sector', 'Combined_Score', 'Quality_Score', 'XSMOM_Score']],\n",
        "            'short': low_quality[['Ticker', 'Company', 'Sector', 'Combined_Score', 'Quality_Score', 'XSMOM_Score']],\n",
        "            'spread': high_quality['Combined_Score'].mean() - low_quality['Combined_Score'].mean()\n",
        "        }\n",
        "\n",
        "class CombinedModelHRP(CombinedModel):\n",
        "    def get_stock_returns(self, tickers, period='1y'):\n",
        "        returns_data = {}\n",
        "        for ticker in tickers:\n",
        "            try:\n",
        "                stock = yf.Ticker(ticker)\n",
        "                hist = stock.history(period=period)\n",
        "                if not hist.empty:\n",
        "                    returns = hist['Close'].pct_change().dropna()\n",
        "                    returns_data[ticker] = returns\n",
        "                time.sleep(0.1)\n",
        "            except Exception as e:\n",
        "                print(f\"Error getting returns for {ticker}: {str(e)}\")\n",
        "        return pd.DataFrame(returns_data)\n",
        "\n",
        "    def get_quasi_diag(self, link):\n",
        "        num_items = link[-1, 3]\n",
        "        cursors = [link[-1, 0], link[-1, 1]]\n",
        "        sorted_items = []\n",
        "\n",
        "        while len(sorted_items) < num_items:\n",
        "            for cursor in cursors:\n",
        "                if cursor < num_items:\n",
        "                    sorted_items.append(int(cursor))\n",
        "                    cursors.remove(cursor)\n",
        "                else:\n",
        "                    i = int(cursor - num_items)\n",
        "                    cursors.remove(cursor)\n",
        "                    cursors.extend([link[i, 0], link[i, 1]])\n",
        "\n",
        "        return sorted_items\n",
        "\n",
        "    def get_cluster_var(self, cov, cluster_indices):\n",
        "        cluster_cov = cov.iloc[cluster_indices, cluster_indices]\n",
        "        inv_diag = 1 / np.diag(cluster_cov)\n",
        "        weights = inv_diag / inv_diag.sum()\n",
        "        cluster_var = np.dot(np.dot(weights, cluster_cov), weights)\n",
        "        return cluster_var, weights\n",
        "\n",
        "    def optimize_portfolio(self, returns):\n",
        "        if returns.empty:\n",
        "            return pd.Series()\n",
        "\n",
        "        corr = returns.corr()\n",
        "        dist = np.sqrt(0.5 * (1 - corr))\n",
        "\n",
        "        condensed_dist = squareform(dist)\n",
        "        link = sch.linkage(condensed_dist, method='single')\n",
        "\n",
        "        sorted_indices = self.get_quasi_diag(link)\n",
        "        sorted_assets = returns.columns[sorted_indices].tolist()\n",
        "\n",
        "        cov = returns[sorted_assets].cov()\n",
        "        weights = pd.Series(1.0, index=sorted_assets)\n",
        "\n",
        "        def recursive_bisection(indices, level=0):\n",
        "            if len(indices) <= 1:\n",
        "                return\n",
        "\n",
        "            mid = len(indices) // 2\n",
        "            left_indices = indices[:mid]\n",
        "            right_indices = indices[mid:]\n",
        "\n",
        "            left_var, left_weights = self.get_cluster_var(cov, left_indices)\n",
        "            right_var, right_weights = self.get_cluster_var(cov, right_indices)\n",
        "\n",
        "            alpha = 1 - (left_var / (left_var + right_var))\n",
        "\n",
        "            for idx in left_indices:\n",
        "                weights.loc[sorted_assets[idx]] *= alpha\n",
        "            for idx in right_indices:\n",
        "                weights.loc[sorted_assets[idx]] *= (1 - alpha)\n",
        "\n",
        "            recursive_bisection(left_indices, level + 1)\n",
        "            recursive_bisection(right_indices, level + 1)\n",
        "\n",
        "        initial_indices = list(range(len(sorted_assets)))\n",
        "        recursive_bisection(initial_indices)\n",
        "\n",
        "        # Apply constraints\n",
        "        weights = self.constrain_weights(weights)\n",
        "\n",
        "        return weights\n",
        "\n",
        "    def get_portfolio(self, n_stocks=5):\n",
        "        base_portfolio = super().get_portfolio(n_stocks)\n",
        "\n",
        "        long_tickers = base_portfolio['long']['Ticker'].tolist()\n",
        "        returns = self.get_stock_returns(long_tickers)\n",
        "\n",
        "        if returns.empty:\n",
        "            weights = pd.Series(1.0 / len(long_tickers), index=long_tickers)\n",
        "            base_portfolio['long']['HRP_Weight'] = self.constrain_weights(\n",
        "                weights,\n",
        "                base_portfolio['long']['Sector']\n",
        "            )\n",
        "        else:\n",
        "            hrp_weights = self.optimize_portfolio(returns)\n",
        "            hrp_weights = self.constrain_weights(\n",
        "                hrp_weights,\n",
        "                base_portfolio['long']['Sector']\n",
        "            )\n",
        "            base_portfolio['long']['HRP_Weight'] = base_portfolio['long']['Ticker'].map(hrp_weights)\n",
        "\n",
        "            # Calculate portfolio costs\n",
        "            old_weights = getattr(self, '_previous_weights', pd.Series(index=base_portfolio['long']['Ticker'], data=0))\n",
        "            new_weights = base_portfolio['long']['HRP_Weight']\n",
        "            costs_analysis = self.calculate_portfolio_costs(old_weights, new_weights)\n",
        "            base_portfolio['costs_analysis'] = costs_analysis\n",
        "\n",
        "            # Calculate risk metrics\n",
        "            risk_metrics = self.calculate_risk_metrics(returns)\n",
        "            if risk_metrics:\n",
        "                base_portfolio['risk_analysis'] = risk_metrics\n",
        "\n",
        "                # Add risk-based suggestions\n",
        "                if risk_metrics['risk_alerts']:\n",
        "                    base_portfolio['risk_actions'] = [\n",
        "                        alert['suggestion'] for alert in risk_metrics['risk_alerts']\n",
        "                    ]\n",
        "\n",
        "                    risk_contrib = pd.Series(risk_metrics['risk_contributions'])\n",
        "                    high_risk_assets = risk_contrib[risk_contrib > risk_contrib.mean()]\n",
        "\n",
        "                    if not high_risk_assets.empty:\n",
        "                        base_portfolio['risk_actions'].append(\n",
        "                            f'Consider reducing exposure to: {\", \".join(high_risk_assets.index)}'\n",
        "                        )\n",
        "\n",
        "            # Store current weights for next rebalance\n",
        "            self._previous_weights = new_weights\n",
        "\n",
        "        return base_portfolio\n",
        "\n",
        "def main():\n",
        "    model = CombinedModelHRP()\n",
        "    portfolio = model.get_portfolio(n_stocks=5)\n",
        "\n",
        "    print(\"\\nLong Portfolio (High Quality + Momentum) with HRP Weights:\")\n",
        "    print(portfolio['long'])\n",
        "\n",
        "    if 'costs_analysis' in portfolio:\n",
        "        print(\"\\nPortfolio Costs Analysis:\")\n",
        "        print(portfolio['costs_analysis'])\n",
        "\n",
        "    if 'risk_analysis' in portfolio:\n",
        "        print(\"\\nRisk Analysis:\")\n",
        "        print(portfolio['risk_analysis'])\n",
        "\n",
        "    if 'risk_actions' in portfolio:\n",
        "        print(\"\\nRisk Management Suggestions:\")\n",
        "        for action in portfolio['risk_actions']:\n",
        "            print(f\"- {action}\")\n",
        "\n",
        "if __name__ == \"__main__\":\n",
        "    main()"
      ],
      "metadata": {
        "colab": {
          "base_uri": "https://localhost:8080/"
        },
        "id": "hPGY85ID56i9",
        "outputId": "82f18729-e224-4091-cf11-2adcbc6b97bf"
      },
      "execution_count": 9,
      "outputs": [
        {
          "output_type": "stream",
          "name": "stdout",
          "text": []
        },
        {
          "output_type": "stream",
          "name": "stderr",
          "text": [
            "ERROR:yfinance:NBIS: Period '6mo' is invalid, must be one of ['1d', '5d', '1mo', '3mo', 'ytd', 'max']\n",
            "ERROR:yfinance:TTAN: Period '6mo' is invalid, must be one of ['1d', '5d', '1mo', 'ytd', 'max']\n",
            "ERROR:yfinance:NBIS: Period '1y' is invalid, must be one of ['1d', '5d', '1mo', '3mo', 'ytd', 'max']\n"
          ]
        },
        {
          "output_type": "stream",
          "name": "stdout",
          "text": [
            "Error getting data for NBIS: single positional indexer is out-of-bounds\n"
          ]
        },
        {
          "output_type": "stream",
          "name": "stderr",
          "text": [
            "ERROR:yfinance:OS: Period '1y' is invalid, must be one of ['1d', '5d', '1mo', '3mo', '6mo', 'ytd', 'max']\n"
          ]
        },
        {
          "output_type": "stream",
          "name": "stdout",
          "text": [
            "Error getting data for OS: single positional indexer is out-of-bounds\n"
          ]
        },
        {
          "output_type": "stream",
          "name": "stderr",
          "text": [
            "ERROR:yfinance:TTAN: Period '1y' is invalid, must be one of ['1d', '5d', '1mo', 'ytd', 'max']\n"
          ]
        },
        {
          "output_type": "stream",
          "name": "stdout",
          "text": [
            "Error getting data for TTAN: single positional indexer is out-of-bounds\n"
          ]
        },
        {
          "output_type": "stream",
          "name": "stderr",
          "text": [
            "/usr/local/lib/python3.10/dist-packages/finvizfinance/screener/base.py:134: FutureWarning: The behavior of DataFrame concatenation with empty or all-NA entries is deprecated. In a future version, this will no longer exclude empty or all-NA columns when determining the result dtypes. To retain the old behavior, exclude the relevant entries before the concat operation.\n",
            "  return pd.concat([df, pd.DataFrame(frame)], ignore_index=True)\n"
          ]
        },
        {
          "output_type": "stream",
          "name": "stdout",
          "text": [
            "\n",
            "Long Portfolio (High Quality + Momentum) with HRP Weights:\n",
            "    Ticker                          Company      Sector  Combined_Score  \\\n",
            "194   SRRK        Scholar Rock Holding Corp  Healthcare        3.917468   \n",
            "0      APP                    Applovin Corp  Technology        2.996741   \n",
            "1       KC  Kingsoft Cloud Holdings Ltd ADR  Technology        2.665849   \n",
            "140   GGAL     Grupo Financiero Galicia ADR   Financial        2.588490   \n",
            "195    WGS             GeneDx Holdings Corp  Healthcare        2.020108   \n",
            "\n",
            "     Quality_Score  XSMOM_Score  HRP_Weight  \n",
            "194       0.787948     7.046987    0.066209  \n",
            "0         0.947231     5.046251    0.272567  \n",
            "1         0.551636     4.780063    0.145800  \n",
            "140       1.190474     3.986507    0.379417  \n",
            "195       0.947473     3.092743    0.136008  \n",
            "\n",
            "Portfolio Costs Analysis:\n",
            "{'turnover_ratio': 0.0, 'number_of_trades': 0, 'total_costs_usd': 0.0, 'costs_impact_bps': 0.0}\n",
            "\n",
            "Risk Analysis:\n",
            "{'VaR': 0.03579485499499908, 'CVaR': 0.04435813803386801, 'risk_alerts': [{'level': 'WARNING', 'message': 'VaR (3.58%) exceeds limit of 2.00%', 'suggestion': 'Consider reducing position sizes or adding defensive stocks'}, {'level': 'CRITICAL', 'message': 'CVaR (4.44%) exceeds limit of 3.00%', 'suggestion': 'Immediate portfolio rebalancing recommended. Consider hedging positions'}], 'risk_contributions': {'SRRK': -0.009817728043326451, 'APP': -0.008761531304499097, 'KC': -0.010379639366769288, 'GGAL': -0.003911584187822093, 'WGS': -0.011487655131451086}}\n",
            "\n",
            "Risk Management Suggestions:\n",
            "- Consider reducing position sizes or adding defensive stocks\n",
            "- Immediate portfolio rebalancing recommended. Consider hedging positions\n",
            "- Consider reducing exposure to: APP, GGAL\n"
          ]
        }
      ]
    }
  ]
}